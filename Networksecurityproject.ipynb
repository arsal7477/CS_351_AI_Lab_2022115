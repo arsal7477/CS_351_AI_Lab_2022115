{
  "nbformat": 4,
  "nbformat_minor": 0,
  "metadata": {
    "colab": {
      "provenance": [],
      "gpuType": "T4"
    },
    "kernelspec": {
      "name": "python3",
      "display_name": "Python 3"
    },
    "language_info": {
      "name": "python"
    },
    "accelerator": "GPU"
  },
  "cells": [
    {
      "cell_type": "markdown",
      "source": [
        "<center>\n",
        "  <img src=\"https://i.imgur.com/zze0EHS.png\" alt=\"giki Logo\" width=\"200\">\n",
        "  <div>\n",
        "  </center>\n",
        "    <h1><strong >Intrusion Detection System Using K-Means Clustering Algorithm</strong></h1>\n",
        "    <h1><strong>CY331 - Network Security Project Code</strong></h1>\n",
        "    <h2><strong>Group Members</strong></h1>\n",
        "    <h3><strong>Arsalan Khan 2022115</strong></h3>\n",
        "    <h3><strong>Hassaan Ali Bukhari 2022654</strong></h3>\n",
        "    <h3></h3>\n",
        "    <h3><strong>BS Cybersecurity - 5th Semester</strong></h3>\n",
        "    <h3><strong>Submitted to: Dr Zain Siddiqi</strong></h3>\n",
        "  </div>\n",
        "\n",
        "\n",
        "---"
      ],
      "metadata": {
        "id": "aCDJ-X9AWqJM"
      }
    },
    {
      "cell_type": "markdown",
      "source": [
        "\"\"\"\n",
        "\n",
        "## Overview of the Code\n",
        "\n",
        "---\n",
        "\n",
        "\n",
        "\n",
        "This project demonstrates the use of clustering algorithms on synthetic network traffic data to identify anomalies. The dataset (kddcup.data_10_percen_corrected) includes features commonly associated with network connections, such as packet counts, bytes transferred, error rates, and more. The aim of this analysis is to identify patterns and group similar data points together into clusters, and then highlight anomalies in these clusters.\n",
        "\n",
        "The code involves the following steps:\n",
        "1. **Synthetic Data Generation**: A synthetic dataset is generated with random values simulating network traffic data. This dataset includes various features that represent network connection attributes (e.g., duration, bytes sent/received, error rates). Additionally, a small fraction of data points are labeled as anomalies for testing purposes.\n",
        "2. **Preprocessing**: The data is scaled to normalize the feature values, ensuring that they are on the same scale. This is crucial for clustering algorithms that are sensitive to the scale of the data.\n",
        "3. **Clustering**: The `MiniBatchKMeans` clustering algorithm is applied to the data to group similar data points together. The optimal number of clusters is chosen, and the model is trained on the scaled data.\n",
        "4. **Anomaly Detection**: A small percentage of the data points are labeled as anomalies, allowing the visualization and identification of outliers in the dataset.\n",
        "5. **Visualization**: The clusters and anomalies are visualized in a scatter plot to highlight patterns in the data, with anomalies marked in red and normal data points in blue.\n",
        "\n",
        "\n",
        "\n",
        "\n",
        "\n",
        "### About the Synthetic Data\n",
        "\n",
        "---\n",
        "\n",
        "\n",
        "\n",
        "The synthetic dataset generated in this project simulates network traffic and connection features that are commonly used in intrusion detection systems (IDS) and network monitoring. Each row in the dataset represents a network connection with attributes such as:\n",
        "- **Duration**: Duration of the network connection.\n",
        "- **Bytes Transferred**: Amount of data sent and received.\n",
        "- **Error Rates**: Rates for various types of errors (e.g., server errors, remote errors).\n",
        "- **Other Connection Metrics**: Number of failed logins, number of compromised events, etc.\n",
        "  \n",
        "In this synthetic dataset, the features are randomly generated, and a small percentage (1%) of the data points are deliberately marked as anomalies. These anomalies can represent unusual behavior, such as a sudden surge in failed login attempts, which may be indicative of a network attack or other suspicious activity.\n",
        "\n",
        "\n",
        "\n",
        "\n",
        "\n",
        "### Code Overview\n",
        "\n",
        "---\n",
        "\n",
        "\n",
        "\n",
        "1. **Data Generation**:\n",
        "   - The synthetic data generation function creates a dataframe with 100 samples (modifiable) and 40+ features.\n",
        "   - Random values are assigned for each feature, and anomalies are added by marking a random subset of data points.\n",
        "   \n",
        "2. **Clustering**:\n",
        "   - The MiniBatchKMeans clustering algorithm is used to create clusters of similar data points.\n",
        "   - The clustering model helps to group network connections with similar characteristics.\n",
        "\n",
        "3. **Anomaly Detection**:\n",
        "   - Anomalies are flagged and visualized separately to help identify unusual or suspicious patterns in the data.\n",
        "\n",
        "4. **Visualization**:\n",
        "   - The code uses `matplotlib` and `seaborn` to plot the clusters and anomalies in the data, with anomalies shown in red and normal points in blue.\n",
        "   - These plots help in visually understanding the data distribution and the presence of outliers.\n",
        "\"\"\"\n"
      ],
      "metadata": {
        "id": "klZSPdWsQ-Ea"
      }
    },
    {
      "cell_type": "markdown",
      "source": [
        "## Step 1: Import Libraries\n",
        "\n",
        "---\n",
        "\n"
      ],
      "metadata": {
        "id": "DS-aUfTruvna"
      }
    },
    {
      "cell_type": "code",
      "execution_count": 1,
      "metadata": {
        "id": "8SJUYviQmGkf"
      },
      "outputs": [],
      "source": [
        "# Step 1: Import libraries\n",
        "import numpy as np\n",
        "import pandas as pd\n",
        "from sklearn.cluster import KMeans\n",
        "from sklearn.preprocessing import LabelEncoder, StandardScaler\n",
        "from sklearn.metrics import accuracy_score, confusion_matrix, classification_report\n"
      ]
    },
    {
      "cell_type": "markdown",
      "source": [
        "# Step 2: Load and Inspect the Data\n",
        "\n",
        "---\n",
        "\n",
        "\n"
      ],
      "metadata": {
        "id": "zDuPtrtpwVpb"
      }
    },
    {
      "cell_type": "code",
      "source": [
        "import pandas as pd\n",
        "\n",
        "# Define the columns for the KDDCup99 dataset\n",
        "columns = ['duration', 'protocol_type', 'service', 'flag', 'src_bytes', 'dst_bytes',\n",
        "           'land', 'wrong_fragment', 'urgent', 'hot', 'num_failed_logins', 'logged_in',\n",
        "           'num_compromised', 'root_shell', 'su_attempted', 'num_root', 'num_file_creations',\n",
        "           'num_shells', 'num_access_files', 'num_outbound_cmds', 'is_host_login',\n",
        "           'is_guest_login', 'count', 'srv_count', 'serror_rate', 'srv_serror_rate',\n",
        "           'rerror_rate', 'srv_rerror_rate', 'same_srv_rate', 'diff_srv_rate',\n",
        "           'srv_diff_host_rate', 'dst_host_count', 'dst_host_srv_count',\n",
        "           'dst_host_same_srv_rate', 'dst_host_diff_srv_rate',\n",
        "           'dst_host_same_src_port_rate', 'dst_host_srv_diff_host_rate',\n",
        "           'dst_host_serror_rate', 'dst_host_srv_serror_rate', 'dst_host_rerror_rate',\n",
        "           'dst_host_srv_rerror_rate', 'label']\n",
        "\n",
        "# Read the uploaded file into a pandas DataFrame\n",
        "data_file = 'kddcup.data_10_percent_corrected'  # The uploaded file name\n",
        "data = pd.read_csv(data_file, names=columns)\n",
        "\n",
        "# Display the first few rows to confirm it's loaded correctly\n",
        "print(data.head())\n"
      ],
      "metadata": {
        "colab": {
          "base_uri": "https://localhost:8080/"
        },
        "id": "qA_ibjWsmWzp",
        "outputId": "5ae9be6f-fb7a-4f72-bc85-05b3d20edecf"
      },
      "execution_count": 2,
      "outputs": [
        {
          "output_type": "stream",
          "name": "stdout",
          "text": [
            "   duration protocol_type service flag  src_bytes  dst_bytes  land  \\\n",
            "0         0           tcp    http   SF        181       5450     0   \n",
            "1         0           tcp    http   SF        239        486     0   \n",
            "2         0           tcp    http   SF        235       1337     0   \n",
            "3         0           tcp    http   SF        219       1337     0   \n",
            "4         0           tcp    http   SF        217       2032     0   \n",
            "\n",
            "   wrong_fragment  urgent  hot  ...  dst_host_srv_count  \\\n",
            "0               0       0    0  ...                   9   \n",
            "1               0       0    0  ...                  19   \n",
            "2               0       0    0  ...                  29   \n",
            "3               0       0    0  ...                  39   \n",
            "4               0       0    0  ...                  49   \n",
            "\n",
            "   dst_host_same_srv_rate  dst_host_diff_srv_rate  \\\n",
            "0                     1.0                     0.0   \n",
            "1                     1.0                     0.0   \n",
            "2                     1.0                     0.0   \n",
            "3                     1.0                     0.0   \n",
            "4                     1.0                     0.0   \n",
            "\n",
            "   dst_host_same_src_port_rate  dst_host_srv_diff_host_rate  \\\n",
            "0                         0.11                          0.0   \n",
            "1                         0.05                          0.0   \n",
            "2                         0.03                          0.0   \n",
            "3                         0.03                          0.0   \n",
            "4                         0.02                          0.0   \n",
            "\n",
            "   dst_host_serror_rate  dst_host_srv_serror_rate  dst_host_rerror_rate  \\\n",
            "0                   0.0                       0.0                   0.0   \n",
            "1                   0.0                       0.0                   0.0   \n",
            "2                   0.0                       0.0                   0.0   \n",
            "3                   0.0                       0.0                   0.0   \n",
            "4                   0.0                       0.0                   0.0   \n",
            "\n",
            "   dst_host_srv_rerror_rate    label  \n",
            "0                       0.0  normal.  \n",
            "1                       0.0  normal.  \n",
            "2                       0.0  normal.  \n",
            "3                       0.0  normal.  \n",
            "4                       0.0  normal.  \n",
            "\n",
            "[5 rows x 42 columns]\n"
          ]
        }
      ]
    },
    {
      "cell_type": "markdown",
      "source": [
        "# Step 3: Data Inspection\n",
        "\n",
        "---\n",
        "\n"
      ],
      "metadata": {
        "id": "6c5TsqGdu-_E"
      }
    },
    {
      "cell_type": "code",
      "source": [
        "# Check the dataset structure\n",
        "print(data.info())\n",
        "\n",
        "# Display unique values in categorical columns\n",
        "print(\"Unique protocol types:\", data['protocol_type'].unique())\n",
        "print(\"Unique services:\", data['service'].unique())\n",
        "print(\"Unique flags:\", data['flag'].unique())\n",
        "print(\"Unique labels:\", data['label'].unique())\n",
        "\n",
        "# Check label distribution\n",
        "print(\"Label distribution:\\n\", data['label'].value_counts())\n"
      ],
      "metadata": {
        "colab": {
          "base_uri": "https://localhost:8080/"
        },
        "id": "EXD45duHvANM",
        "outputId": "0b2241a9-a9ee-4f27-a720-a83703619b76"
      },
      "execution_count": 3,
      "outputs": [
        {
          "output_type": "stream",
          "name": "stdout",
          "text": [
            "<class 'pandas.core.frame.DataFrame'>\n",
            "RangeIndex: 494021 entries, 0 to 494020\n",
            "Data columns (total 42 columns):\n",
            " #   Column                       Non-Null Count   Dtype  \n",
            "---  ------                       --------------   -----  \n",
            " 0   duration                     494021 non-null  int64  \n",
            " 1   protocol_type                494021 non-null  object \n",
            " 2   service                      494021 non-null  object \n",
            " 3   flag                         494021 non-null  object \n",
            " 4   src_bytes                    494021 non-null  int64  \n",
            " 5   dst_bytes                    494021 non-null  int64  \n",
            " 6   land                         494021 non-null  int64  \n",
            " 7   wrong_fragment               494021 non-null  int64  \n",
            " 8   urgent                       494021 non-null  int64  \n",
            " 9   hot                          494021 non-null  int64  \n",
            " 10  num_failed_logins            494021 non-null  int64  \n",
            " 11  logged_in                    494021 non-null  int64  \n",
            " 12  num_compromised              494021 non-null  int64  \n",
            " 13  root_shell                   494021 non-null  int64  \n",
            " 14  su_attempted                 494021 non-null  int64  \n",
            " 15  num_root                     494021 non-null  int64  \n",
            " 16  num_file_creations           494021 non-null  int64  \n",
            " 17  num_shells                   494021 non-null  int64  \n",
            " 18  num_access_files             494021 non-null  int64  \n",
            " 19  num_outbound_cmds            494021 non-null  int64  \n",
            " 20  is_host_login                494021 non-null  int64  \n",
            " 21  is_guest_login               494021 non-null  int64  \n",
            " 22  count                        494021 non-null  int64  \n",
            " 23  srv_count                    494021 non-null  int64  \n",
            " 24  serror_rate                  494021 non-null  float64\n",
            " 25  srv_serror_rate              494021 non-null  float64\n",
            " 26  rerror_rate                  494021 non-null  float64\n",
            " 27  srv_rerror_rate              494021 non-null  float64\n",
            " 28  same_srv_rate                494021 non-null  float64\n",
            " 29  diff_srv_rate                494021 non-null  float64\n",
            " 30  srv_diff_host_rate           494021 non-null  float64\n",
            " 31  dst_host_count               494021 non-null  int64  \n",
            " 32  dst_host_srv_count           494021 non-null  int64  \n",
            " 33  dst_host_same_srv_rate       494021 non-null  float64\n",
            " 34  dst_host_diff_srv_rate       494021 non-null  float64\n",
            " 35  dst_host_same_src_port_rate  494021 non-null  float64\n",
            " 36  dst_host_srv_diff_host_rate  494021 non-null  float64\n",
            " 37  dst_host_serror_rate         494021 non-null  float64\n",
            " 38  dst_host_srv_serror_rate     494021 non-null  float64\n",
            " 39  dst_host_rerror_rate         494021 non-null  float64\n",
            " 40  dst_host_srv_rerror_rate     494021 non-null  float64\n",
            " 41  label                        494021 non-null  object \n",
            "dtypes: float64(15), int64(23), object(4)\n",
            "memory usage: 158.3+ MB\n",
            "None\n",
            "Unique protocol types: ['tcp' 'udp' 'icmp']\n",
            "Unique services: ['http' 'smtp' 'finger' 'domain_u' 'auth' 'telnet' 'ftp' 'eco_i' 'ntp_u'\n",
            " 'ecr_i' 'other' 'private' 'pop_3' 'ftp_data' 'rje' 'time' 'mtp' 'link'\n",
            " 'remote_job' 'gopher' 'ssh' 'name' 'whois' 'domain' 'login' 'imap4'\n",
            " 'daytime' 'ctf' 'nntp' 'shell' 'IRC' 'nnsp' 'http_443' 'exec' 'printer'\n",
            " 'efs' 'courier' 'uucp' 'klogin' 'kshell' 'echo' 'discard' 'systat'\n",
            " 'supdup' 'iso_tsap' 'hostnames' 'csnet_ns' 'pop_2' 'sunrpc' 'uucp_path'\n",
            " 'netbios_ns' 'netbios_ssn' 'netbios_dgm' 'sql_net' 'vmnet' 'bgp' 'Z39_50'\n",
            " 'ldap' 'netstat' 'urh_i' 'X11' 'urp_i' 'pm_dump' 'tftp_u' 'tim_i' 'red_i']\n",
            "Unique flags: ['SF' 'S1' 'REJ' 'S2' 'S0' 'S3' 'RSTO' 'RSTR' 'RSTOS0' 'OTH' 'SH']\n",
            "Unique labels: ['normal.' 'buffer_overflow.' 'loadmodule.' 'perl.' 'neptune.' 'smurf.'\n",
            " 'guess_passwd.' 'pod.' 'teardrop.' 'portsweep.' 'ipsweep.' 'land.'\n",
            " 'ftp_write.' 'back.' 'imap.' 'satan.' 'phf.' 'nmap.' 'multihop.'\n",
            " 'warezmaster.' 'warezclient.' 'spy.' 'rootkit.']\n",
            "Label distribution:\n",
            " label\n",
            "smurf.              280790\n",
            "neptune.            107201\n",
            "normal.              97278\n",
            "back.                 2203\n",
            "satan.                1589\n",
            "ipsweep.              1247\n",
            "portsweep.            1040\n",
            "warezclient.          1020\n",
            "teardrop.              979\n",
            "pod.                   264\n",
            "nmap.                  231\n",
            "guess_passwd.           53\n",
            "buffer_overflow.        30\n",
            "land.                   21\n",
            "warezmaster.            20\n",
            "imap.                   12\n",
            "rootkit.                10\n",
            "loadmodule.              9\n",
            "ftp_write.               8\n",
            "multihop.                7\n",
            "phf.                     4\n",
            "perl.                    3\n",
            "spy.                     2\n",
            "Name: count, dtype: int64\n"
          ]
        }
      ]
    },
    {
      "cell_type": "markdown",
      "source": [
        "# Step 4: Data Preprocessing\n",
        "\n",
        "---\n",
        "\n",
        "\n",
        "\n"
      ],
      "metadata": {
        "id": "g3Wzf5Z5xA7e"
      }
    },
    {
      "cell_type": "code",
      "source": [
        "# One-hot encode the categorical columns\n",
        "data_encoded = pd.get_dummies(data, columns=['protocol_type', 'service', 'flag'])\n",
        "\n",
        "# Verify the new structure\n",
        "print(\"Shape after encoding:\", data_encoded.shape)\n"
      ],
      "metadata": {
        "colab": {
          "base_uri": "https://localhost:8080/"
        },
        "id": "s3E3vp57vZxK",
        "outputId": "60e4104d-3525-48fc-aab8-d341c085d8bf"
      },
      "execution_count": 4,
      "outputs": [
        {
          "output_type": "stream",
          "name": "stdout",
          "text": [
            "Shape after encoding: (494021, 119)\n"
          ]
        }
      ]
    },
    {
      "cell_type": "markdown",
      "source": [
        "# Step 5: Feature Normalization\n",
        "\n",
        "---\n",
        "\n"
      ],
      "metadata": {
        "id": "aOY19km0v0Mi"
      }
    },
    {
      "cell_type": "code",
      "source": [
        "from sklearn.preprocessing import MinMaxScaler\n",
        "\n",
        "# Separate the features (drop the 'label' column)\n",
        "features = data_encoded.drop(columns=['label'])\n",
        "\n",
        "# Normalize all features to a range of 0 to 1\n",
        "scaler = MinMaxScaler()\n",
        "features_scaled = scaler.fit_transform(features)\n",
        "\n",
        "# Convert back to a DataFrame\n",
        "features_scaled = pd.DataFrame(features_scaled, columns=features.columns)\n",
        "\n",
        "print(\"Shape after normalization:\", features_scaled.shape)\n",
        "print(features_scaled.head())\n"
      ],
      "metadata": {
        "colab": {
          "base_uri": "https://localhost:8080/"
        },
        "id": "kvi-D9gLvneX",
        "outputId": "150cad2e-4147-44c5-9d2e-e077366f5c49"
      },
      "execution_count": 5,
      "outputs": [
        {
          "output_type": "stream",
          "name": "stdout",
          "text": [
            "Shape after normalization: (494021, 118)\n",
            "   duration     src_bytes  dst_bytes  land  wrong_fragment  urgent  hot  \\\n",
            "0       0.0  2.610418e-07   0.001057   0.0             0.0     0.0  0.0   \n",
            "1       0.0  3.446905e-07   0.000094   0.0             0.0     0.0  0.0   \n",
            "2       0.0  3.389216e-07   0.000259   0.0             0.0     0.0  0.0   \n",
            "3       0.0  3.158461e-07   0.000259   0.0             0.0     0.0  0.0   \n",
            "4       0.0  3.129617e-07   0.000394   0.0             0.0     0.0  0.0   \n",
            "\n",
            "   num_failed_logins  logged_in  num_compromised  ...  flag_REJ  flag_RSTO  \\\n",
            "0                0.0        1.0              0.0  ...       0.0        0.0   \n",
            "1                0.0        1.0              0.0  ...       0.0        0.0   \n",
            "2                0.0        1.0              0.0  ...       0.0        0.0   \n",
            "3                0.0        1.0              0.0  ...       0.0        0.0   \n",
            "4                0.0        1.0              0.0  ...       0.0        0.0   \n",
            "\n",
            "   flag_RSTOS0  flag_RSTR  flag_S0  flag_S1  flag_S2  flag_S3  flag_SF  \\\n",
            "0          0.0        0.0      0.0      0.0      0.0      0.0      1.0   \n",
            "1          0.0        0.0      0.0      0.0      0.0      0.0      1.0   \n",
            "2          0.0        0.0      0.0      0.0      0.0      0.0      1.0   \n",
            "3          0.0        0.0      0.0      0.0      0.0      0.0      1.0   \n",
            "4          0.0        0.0      0.0      0.0      0.0      0.0      1.0   \n",
            "\n",
            "   flag_SH  \n",
            "0      0.0  \n",
            "1      0.0  \n",
            "2      0.0  \n",
            "3      0.0  \n",
            "4      0.0  \n",
            "\n",
            "[5 rows x 118 columns]\n"
          ]
        }
      ]
    },
    {
      "cell_type": "code",
      "source": [
        "features_sampled = features_scaled.sample(frac=0.1, random_state=42)  # 10% sample\n"
      ],
      "metadata": {
        "id": "0pDDNu9PKIRv"
      },
      "execution_count": 14,
      "outputs": []
    },
    {
      "cell_type": "markdown",
      "source": [
        "# Step 6: PCA for Dimensionality Reduction\n",
        "\n",
        "---\n",
        "\n"
      ],
      "metadata": {
        "id": "FDHfX7VcvOKl"
      }
    },
    {
      "cell_type": "code",
      "source": [
        "from sklearn.decomposition import PCA\n",
        "\n",
        "# Reduce to 10 principal components\n",
        "pca = PCA(n_components=10, random_state=42)\n",
        "reduced_features = pca.fit_transform(features_scaled.iloc[:, :-1])  # Exclude cluster column\n"
      ],
      "metadata": {
        "id": "wM8bmo-jKKrz"
      },
      "execution_count": 15,
      "outputs": []
    },
    {
      "cell_type": "code",
      "source": [
        "from sklearn.cluster import MiniBatchKMeans\n",
        "# Define the number of clusters\n",
        "num_clusters = 10  # Example value, you can adjust as needed\n",
        "\n",
        "# For KMeans\n",
        "from sklearn.cluster import KMeans\n",
        "kmeans = KMeans(n_clusters=num_clusters, max_iter=300, random_state=42)\n",
        "\n",
        "# For MiniBatchKMeans\n",
        "from sklearn.cluster import MiniBatchKMeans\n",
        "mb_kmeans = MiniBatchKMeans(n_clusters=num_clusters, random_state=42, batch_size=10000)\n",
        "mb_kmeans.fit(features_scaled.iloc[:, :-1])\n",
        "mb_kmeans = MiniBatchKMeans(n_clusters=num_clusters, random_state=42, batch_size=10000)\n",
        "mb_kmeans.fit(features_scaled.iloc[:, :-1])\n"
      ],
      "metadata": {
        "id": "bZ3gRf9jKa8x",
        "colab": {
          "base_uri": "https://localhost:8080/",
          "height": 81
        },
        "outputId": "3a9d8f23-88db-4f6a-be75-6f5eb989c9a8"
      },
      "execution_count": 19,
      "outputs": [
        {
          "output_type": "execute_result",
          "data": {
            "text/plain": [
              "MiniBatchKMeans(batch_size=10000, n_clusters=10, random_state=42)"
            ],
            "text/html": [
              "<style>#sk-container-id-1 {\n",
              "  /* Definition of color scheme common for light and dark mode */\n",
              "  --sklearn-color-text: black;\n",
              "  --sklearn-color-line: gray;\n",
              "  /* Definition of color scheme for unfitted estimators */\n",
              "  --sklearn-color-unfitted-level-0: #fff5e6;\n",
              "  --sklearn-color-unfitted-level-1: #f6e4d2;\n",
              "  --sklearn-color-unfitted-level-2: #ffe0b3;\n",
              "  --sklearn-color-unfitted-level-3: chocolate;\n",
              "  /* Definition of color scheme for fitted estimators */\n",
              "  --sklearn-color-fitted-level-0: #f0f8ff;\n",
              "  --sklearn-color-fitted-level-1: #d4ebff;\n",
              "  --sklearn-color-fitted-level-2: #b3dbfd;\n",
              "  --sklearn-color-fitted-level-3: cornflowerblue;\n",
              "\n",
              "  /* Specific color for light theme */\n",
              "  --sklearn-color-text-on-default-background: var(--sg-text-color, var(--theme-code-foreground, var(--jp-content-font-color1, black)));\n",
              "  --sklearn-color-background: var(--sg-background-color, var(--theme-background, var(--jp-layout-color0, white)));\n",
              "  --sklearn-color-border-box: var(--sg-text-color, var(--theme-code-foreground, var(--jp-content-font-color1, black)));\n",
              "  --sklearn-color-icon: #696969;\n",
              "\n",
              "  @media (prefers-color-scheme: dark) {\n",
              "    /* Redefinition of color scheme for dark theme */\n",
              "    --sklearn-color-text-on-default-background: var(--sg-text-color, var(--theme-code-foreground, var(--jp-content-font-color1, white)));\n",
              "    --sklearn-color-background: var(--sg-background-color, var(--theme-background, var(--jp-layout-color0, #111)));\n",
              "    --sklearn-color-border-box: var(--sg-text-color, var(--theme-code-foreground, var(--jp-content-font-color1, white)));\n",
              "    --sklearn-color-icon: #878787;\n",
              "  }\n",
              "}\n",
              "\n",
              "#sk-container-id-1 {\n",
              "  color: var(--sklearn-color-text);\n",
              "}\n",
              "\n",
              "#sk-container-id-1 pre {\n",
              "  padding: 0;\n",
              "}\n",
              "\n",
              "#sk-container-id-1 input.sk-hidden--visually {\n",
              "  border: 0;\n",
              "  clip: rect(1px 1px 1px 1px);\n",
              "  clip: rect(1px, 1px, 1px, 1px);\n",
              "  height: 1px;\n",
              "  margin: -1px;\n",
              "  overflow: hidden;\n",
              "  padding: 0;\n",
              "  position: absolute;\n",
              "  width: 1px;\n",
              "}\n",
              "\n",
              "#sk-container-id-1 div.sk-dashed-wrapped {\n",
              "  border: 1px dashed var(--sklearn-color-line);\n",
              "  margin: 0 0.4em 0.5em 0.4em;\n",
              "  box-sizing: border-box;\n",
              "  padding-bottom: 0.4em;\n",
              "  background-color: var(--sklearn-color-background);\n",
              "}\n",
              "\n",
              "#sk-container-id-1 div.sk-container {\n",
              "  /* jupyter's `normalize.less` sets `[hidden] { display: none; }`\n",
              "     but bootstrap.min.css set `[hidden] { display: none !important; }`\n",
              "     so we also need the `!important` here to be able to override the\n",
              "     default hidden behavior on the sphinx rendered scikit-learn.org.\n",
              "     See: https://github.com/scikit-learn/scikit-learn/issues/21755 */\n",
              "  display: inline-block !important;\n",
              "  position: relative;\n",
              "}\n",
              "\n",
              "#sk-container-id-1 div.sk-text-repr-fallback {\n",
              "  display: none;\n",
              "}\n",
              "\n",
              "div.sk-parallel-item,\n",
              "div.sk-serial,\n",
              "div.sk-item {\n",
              "  /* draw centered vertical line to link estimators */\n",
              "  background-image: linear-gradient(var(--sklearn-color-text-on-default-background), var(--sklearn-color-text-on-default-background));\n",
              "  background-size: 2px 100%;\n",
              "  background-repeat: no-repeat;\n",
              "  background-position: center center;\n",
              "}\n",
              "\n",
              "/* Parallel-specific style estimator block */\n",
              "\n",
              "#sk-container-id-1 div.sk-parallel-item::after {\n",
              "  content: \"\";\n",
              "  width: 100%;\n",
              "  border-bottom: 2px solid var(--sklearn-color-text-on-default-background);\n",
              "  flex-grow: 1;\n",
              "}\n",
              "\n",
              "#sk-container-id-1 div.sk-parallel {\n",
              "  display: flex;\n",
              "  align-items: stretch;\n",
              "  justify-content: center;\n",
              "  background-color: var(--sklearn-color-background);\n",
              "  position: relative;\n",
              "}\n",
              "\n",
              "#sk-container-id-1 div.sk-parallel-item {\n",
              "  display: flex;\n",
              "  flex-direction: column;\n",
              "}\n",
              "\n",
              "#sk-container-id-1 div.sk-parallel-item:first-child::after {\n",
              "  align-self: flex-end;\n",
              "  width: 50%;\n",
              "}\n",
              "\n",
              "#sk-container-id-1 div.sk-parallel-item:last-child::after {\n",
              "  align-self: flex-start;\n",
              "  width: 50%;\n",
              "}\n",
              "\n",
              "#sk-container-id-1 div.sk-parallel-item:only-child::after {\n",
              "  width: 0;\n",
              "}\n",
              "\n",
              "/* Serial-specific style estimator block */\n",
              "\n",
              "#sk-container-id-1 div.sk-serial {\n",
              "  display: flex;\n",
              "  flex-direction: column;\n",
              "  align-items: center;\n",
              "  background-color: var(--sklearn-color-background);\n",
              "  padding-right: 1em;\n",
              "  padding-left: 1em;\n",
              "}\n",
              "\n",
              "\n",
              "/* Toggleable style: style used for estimator/Pipeline/ColumnTransformer box that is\n",
              "clickable and can be expanded/collapsed.\n",
              "- Pipeline and ColumnTransformer use this feature and define the default style\n",
              "- Estimators will overwrite some part of the style using the `sk-estimator` class\n",
              "*/\n",
              "\n",
              "/* Pipeline and ColumnTransformer style (default) */\n",
              "\n",
              "#sk-container-id-1 div.sk-toggleable {\n",
              "  /* Default theme specific background. It is overwritten whether we have a\n",
              "  specific estimator or a Pipeline/ColumnTransformer */\n",
              "  background-color: var(--sklearn-color-background);\n",
              "}\n",
              "\n",
              "/* Toggleable label */\n",
              "#sk-container-id-1 label.sk-toggleable__label {\n",
              "  cursor: pointer;\n",
              "  display: block;\n",
              "  width: 100%;\n",
              "  margin-bottom: 0;\n",
              "  padding: 0.5em;\n",
              "  box-sizing: border-box;\n",
              "  text-align: center;\n",
              "}\n",
              "\n",
              "#sk-container-id-1 label.sk-toggleable__label-arrow:before {\n",
              "  /* Arrow on the left of the label */\n",
              "  content: \"▸\";\n",
              "  float: left;\n",
              "  margin-right: 0.25em;\n",
              "  color: var(--sklearn-color-icon);\n",
              "}\n",
              "\n",
              "#sk-container-id-1 label.sk-toggleable__label-arrow:hover:before {\n",
              "  color: var(--sklearn-color-text);\n",
              "}\n",
              "\n",
              "/* Toggleable content - dropdown */\n",
              "\n",
              "#sk-container-id-1 div.sk-toggleable__content {\n",
              "  max-height: 0;\n",
              "  max-width: 0;\n",
              "  overflow: hidden;\n",
              "  text-align: left;\n",
              "  /* unfitted */\n",
              "  background-color: var(--sklearn-color-unfitted-level-0);\n",
              "}\n",
              "\n",
              "#sk-container-id-1 div.sk-toggleable__content.fitted {\n",
              "  /* fitted */\n",
              "  background-color: var(--sklearn-color-fitted-level-0);\n",
              "}\n",
              "\n",
              "#sk-container-id-1 div.sk-toggleable__content pre {\n",
              "  margin: 0.2em;\n",
              "  border-radius: 0.25em;\n",
              "  color: var(--sklearn-color-text);\n",
              "  /* unfitted */\n",
              "  background-color: var(--sklearn-color-unfitted-level-0);\n",
              "}\n",
              "\n",
              "#sk-container-id-1 div.sk-toggleable__content.fitted pre {\n",
              "  /* unfitted */\n",
              "  background-color: var(--sklearn-color-fitted-level-0);\n",
              "}\n",
              "\n",
              "#sk-container-id-1 input.sk-toggleable__control:checked~div.sk-toggleable__content {\n",
              "  /* Expand drop-down */\n",
              "  max-height: 200px;\n",
              "  max-width: 100%;\n",
              "  overflow: auto;\n",
              "}\n",
              "\n",
              "#sk-container-id-1 input.sk-toggleable__control:checked~label.sk-toggleable__label-arrow:before {\n",
              "  content: \"▾\";\n",
              "}\n",
              "\n",
              "/* Pipeline/ColumnTransformer-specific style */\n",
              "\n",
              "#sk-container-id-1 div.sk-label input.sk-toggleable__control:checked~label.sk-toggleable__label {\n",
              "  color: var(--sklearn-color-text);\n",
              "  background-color: var(--sklearn-color-unfitted-level-2);\n",
              "}\n",
              "\n",
              "#sk-container-id-1 div.sk-label.fitted input.sk-toggleable__control:checked~label.sk-toggleable__label {\n",
              "  background-color: var(--sklearn-color-fitted-level-2);\n",
              "}\n",
              "\n",
              "/* Estimator-specific style */\n",
              "\n",
              "/* Colorize estimator box */\n",
              "#sk-container-id-1 div.sk-estimator input.sk-toggleable__control:checked~label.sk-toggleable__label {\n",
              "  /* unfitted */\n",
              "  background-color: var(--sklearn-color-unfitted-level-2);\n",
              "}\n",
              "\n",
              "#sk-container-id-1 div.sk-estimator.fitted input.sk-toggleable__control:checked~label.sk-toggleable__label {\n",
              "  /* fitted */\n",
              "  background-color: var(--sklearn-color-fitted-level-2);\n",
              "}\n",
              "\n",
              "#sk-container-id-1 div.sk-label label.sk-toggleable__label,\n",
              "#sk-container-id-1 div.sk-label label {\n",
              "  /* The background is the default theme color */\n",
              "  color: var(--sklearn-color-text-on-default-background);\n",
              "}\n",
              "\n",
              "/* On hover, darken the color of the background */\n",
              "#sk-container-id-1 div.sk-label:hover label.sk-toggleable__label {\n",
              "  color: var(--sklearn-color-text);\n",
              "  background-color: var(--sklearn-color-unfitted-level-2);\n",
              "}\n",
              "\n",
              "/* Label box, darken color on hover, fitted */\n",
              "#sk-container-id-1 div.sk-label.fitted:hover label.sk-toggleable__label.fitted {\n",
              "  color: var(--sklearn-color-text);\n",
              "  background-color: var(--sklearn-color-fitted-level-2);\n",
              "}\n",
              "\n",
              "/* Estimator label */\n",
              "\n",
              "#sk-container-id-1 div.sk-label label {\n",
              "  font-family: monospace;\n",
              "  font-weight: bold;\n",
              "  display: inline-block;\n",
              "  line-height: 1.2em;\n",
              "}\n",
              "\n",
              "#sk-container-id-1 div.sk-label-container {\n",
              "  text-align: center;\n",
              "}\n",
              "\n",
              "/* Estimator-specific */\n",
              "#sk-container-id-1 div.sk-estimator {\n",
              "  font-family: monospace;\n",
              "  border: 1px dotted var(--sklearn-color-border-box);\n",
              "  border-radius: 0.25em;\n",
              "  box-sizing: border-box;\n",
              "  margin-bottom: 0.5em;\n",
              "  /* unfitted */\n",
              "  background-color: var(--sklearn-color-unfitted-level-0);\n",
              "}\n",
              "\n",
              "#sk-container-id-1 div.sk-estimator.fitted {\n",
              "  /* fitted */\n",
              "  background-color: var(--sklearn-color-fitted-level-0);\n",
              "}\n",
              "\n",
              "/* on hover */\n",
              "#sk-container-id-1 div.sk-estimator:hover {\n",
              "  /* unfitted */\n",
              "  background-color: var(--sklearn-color-unfitted-level-2);\n",
              "}\n",
              "\n",
              "#sk-container-id-1 div.sk-estimator.fitted:hover {\n",
              "  /* fitted */\n",
              "  background-color: var(--sklearn-color-fitted-level-2);\n",
              "}\n",
              "\n",
              "/* Specification for estimator info (e.g. \"i\" and \"?\") */\n",
              "\n",
              "/* Common style for \"i\" and \"?\" */\n",
              "\n",
              ".sk-estimator-doc-link,\n",
              "a:link.sk-estimator-doc-link,\n",
              "a:visited.sk-estimator-doc-link {\n",
              "  float: right;\n",
              "  font-size: smaller;\n",
              "  line-height: 1em;\n",
              "  font-family: monospace;\n",
              "  background-color: var(--sklearn-color-background);\n",
              "  border-radius: 1em;\n",
              "  height: 1em;\n",
              "  width: 1em;\n",
              "  text-decoration: none !important;\n",
              "  margin-left: 1ex;\n",
              "  /* unfitted */\n",
              "  border: var(--sklearn-color-unfitted-level-1) 1pt solid;\n",
              "  color: var(--sklearn-color-unfitted-level-1);\n",
              "}\n",
              "\n",
              ".sk-estimator-doc-link.fitted,\n",
              "a:link.sk-estimator-doc-link.fitted,\n",
              "a:visited.sk-estimator-doc-link.fitted {\n",
              "  /* fitted */\n",
              "  border: var(--sklearn-color-fitted-level-1) 1pt solid;\n",
              "  color: var(--sklearn-color-fitted-level-1);\n",
              "}\n",
              "\n",
              "/* On hover */\n",
              "div.sk-estimator:hover .sk-estimator-doc-link:hover,\n",
              ".sk-estimator-doc-link:hover,\n",
              "div.sk-label-container:hover .sk-estimator-doc-link:hover,\n",
              ".sk-estimator-doc-link:hover {\n",
              "  /* unfitted */\n",
              "  background-color: var(--sklearn-color-unfitted-level-3);\n",
              "  color: var(--sklearn-color-background);\n",
              "  text-decoration: none;\n",
              "}\n",
              "\n",
              "div.sk-estimator.fitted:hover .sk-estimator-doc-link.fitted:hover,\n",
              ".sk-estimator-doc-link.fitted:hover,\n",
              "div.sk-label-container:hover .sk-estimator-doc-link.fitted:hover,\n",
              ".sk-estimator-doc-link.fitted:hover {\n",
              "  /* fitted */\n",
              "  background-color: var(--sklearn-color-fitted-level-3);\n",
              "  color: var(--sklearn-color-background);\n",
              "  text-decoration: none;\n",
              "}\n",
              "\n",
              "/* Span, style for the box shown on hovering the info icon */\n",
              ".sk-estimator-doc-link span {\n",
              "  display: none;\n",
              "  z-index: 9999;\n",
              "  position: relative;\n",
              "  font-weight: normal;\n",
              "  right: .2ex;\n",
              "  padding: .5ex;\n",
              "  margin: .5ex;\n",
              "  width: min-content;\n",
              "  min-width: 20ex;\n",
              "  max-width: 50ex;\n",
              "  color: var(--sklearn-color-text);\n",
              "  box-shadow: 2pt 2pt 4pt #999;\n",
              "  /* unfitted */\n",
              "  background: var(--sklearn-color-unfitted-level-0);\n",
              "  border: .5pt solid var(--sklearn-color-unfitted-level-3);\n",
              "}\n",
              "\n",
              ".sk-estimator-doc-link.fitted span {\n",
              "  /* fitted */\n",
              "  background: var(--sklearn-color-fitted-level-0);\n",
              "  border: var(--sklearn-color-fitted-level-3);\n",
              "}\n",
              "\n",
              ".sk-estimator-doc-link:hover span {\n",
              "  display: block;\n",
              "}\n",
              "\n",
              "/* \"?\"-specific style due to the `<a>` HTML tag */\n",
              "\n",
              "#sk-container-id-1 a.estimator_doc_link {\n",
              "  float: right;\n",
              "  font-size: 1rem;\n",
              "  line-height: 1em;\n",
              "  font-family: monospace;\n",
              "  background-color: var(--sklearn-color-background);\n",
              "  border-radius: 1rem;\n",
              "  height: 1rem;\n",
              "  width: 1rem;\n",
              "  text-decoration: none;\n",
              "  /* unfitted */\n",
              "  color: var(--sklearn-color-unfitted-level-1);\n",
              "  border: var(--sklearn-color-unfitted-level-1) 1pt solid;\n",
              "}\n",
              "\n",
              "#sk-container-id-1 a.estimator_doc_link.fitted {\n",
              "  /* fitted */\n",
              "  border: var(--sklearn-color-fitted-level-1) 1pt solid;\n",
              "  color: var(--sklearn-color-fitted-level-1);\n",
              "}\n",
              "\n",
              "/* On hover */\n",
              "#sk-container-id-1 a.estimator_doc_link:hover {\n",
              "  /* unfitted */\n",
              "  background-color: var(--sklearn-color-unfitted-level-3);\n",
              "  color: var(--sklearn-color-background);\n",
              "  text-decoration: none;\n",
              "}\n",
              "\n",
              "#sk-container-id-1 a.estimator_doc_link.fitted:hover {\n",
              "  /* fitted */\n",
              "  background-color: var(--sklearn-color-fitted-level-3);\n",
              "}\n",
              "</style><div id=\"sk-container-id-1\" class=\"sk-top-container\"><div class=\"sk-text-repr-fallback\"><pre>MiniBatchKMeans(batch_size=10000, n_clusters=10, random_state=42)</pre><b>In a Jupyter environment, please rerun this cell to show the HTML representation or trust the notebook. <br />On GitHub, the HTML representation is unable to render, please try loading this page with nbviewer.org.</b></div><div class=\"sk-container\" hidden><div class=\"sk-item\"><div class=\"sk-estimator fitted sk-toggleable\"><input class=\"sk-toggleable__control sk-hidden--visually\" id=\"sk-estimator-id-1\" type=\"checkbox\" checked><label for=\"sk-estimator-id-1\" class=\"sk-toggleable__label fitted sk-toggleable__label-arrow fitted\">&nbsp;&nbsp;MiniBatchKMeans<a class=\"sk-estimator-doc-link fitted\" rel=\"noreferrer\" target=\"_blank\" href=\"https://scikit-learn.org/1.5/modules/generated/sklearn.cluster.MiniBatchKMeans.html\">?<span>Documentation for MiniBatchKMeans</span></a><span class=\"sk-estimator-doc-link fitted\">i<span>Fitted</span></span></label><div class=\"sk-toggleable__content fitted\"><pre>MiniBatchKMeans(batch_size=10000, n_clusters=10, random_state=42)</pre></div> </div></div></div></div>"
            ]
          },
          "metadata": {},
          "execution_count": 19
        }
      ]
    },
    {
      "cell_type": "markdown",
      "source": [
        "# Step 7: KMeans Clustering\n",
        "\n",
        "---\n",
        "\n"
      ],
      "metadata": {
        "id": "-1mghuJyvUTm"
      }
    },
    {
      "cell_type": "code",
      "source": [
        "from sklearn.cluster import KMeans\n",
        "from sklearn.metrics import silhouette_score\n",
        "\n",
        "# Set the number of clusters\n",
        "num_clusters = 10\n",
        "\n",
        "# Initialize and fit the K-means model\n",
        "kmeans = KMeans(n_clusters=num_clusters, random_state=42)\n",
        "kmeans.fit(features_sampled)\n",
        "\n",
        "# Get cluster assignments\n",
        "clusters = kmeans.labels_\n",
        "\n",
        "# Add cluster assignments to the dataset\n",
        "features_sampled['Cluster'] = clusters\n",
        "\n",
        "# Evaluate clustering using silhouette score\n",
        "silhouette_avg = silhouette_score(features_sampled.iloc[:, :-1], clusters)\n",
        "print(f\"Silhouette Score for {num_clusters} clusters: {silhouette_avg}\")\n"
      ],
      "metadata": {
        "id": "yqv8Bsptv7Sd",
        "colab": {
          "base_uri": "https://localhost:8080/"
        },
        "outputId": "bccf58f0-c546-46da-e39d-cb135956183a"
      },
      "execution_count": 20,
      "outputs": [
        {
          "output_type": "stream",
          "name": "stdout",
          "text": [
            "Silhouette Score for 10 clusters: 0.8767018951014598\n"
          ]
        }
      ]
    },
    {
      "cell_type": "markdown",
      "source": [
        "# Step 8: Cluster Visualization\n",
        "\n",
        "---\n",
        "\n"
      ],
      "metadata": {
        "id": "Lh_8phkSvXil"
      }
    },
    {
      "cell_type": "code",
      "source": [
        "import matplotlib.pyplot as plt\n",
        "import seaborn as sns\n",
        "\n",
        "# Add cluster labels to original data\n",
        "features_sampled['Cluster'] = clusters\n",
        "\n",
        "# Select a subset of features for pairplot\n",
        "subset_features = features_sampled[['duration', 'src_bytes', 'dst_bytes', 'Cluster']]\n",
        "\n",
        "# Pairplot with hue as cluster\n",
        "sns.pairplot(subset_features, hue='Cluster', palette='viridis', diag_kind='kde')\n",
        "plt.show()"
      ],
      "metadata": {
        "id": "aMtalBtXQyMY",
        "colab": {
          "base_uri": "https://localhost:8080/",
          "height": 684
        },
        "outputId": "020ca863-e16c-4595-b56a-ac8b00acef79"
      },
      "execution_count": 23,
      "outputs": [
        {
          "output_type": "display_data",
          "data": {
            "text/plain": [
              "<Figure size 810.361x750 with 12 Axes>"
            ],
            "image/png": "[encoded data removed]"
          },
          "metadata": {}
        }
      ]
    },
    {
      "cell_type": "code",
      "source": [
        "cluster_summary = features_sampled.groupby('Cluster').mean()\n",
        "print(cluster_summary)\n"
      ],
      "metadata": {
        "id": "j0nAGikhOCMj",
        "colab": {
          "base_uri": "https://localhost:8080/"
        },
        "outputId": "5b54b2fa-2ebd-4038-85d8-9b987c861a3d"
      },
      "execution_count": 24,
      "outputs": [
        {
          "output_type": "stream",
          "name": "stdout",
          "text": [
            "             duration     src_bytes  dst_bytes      land  wrong_fragment  \\\n",
            "Cluster                                                                    \n",
            "0        0.000000e+00  1.348856e-06   0.000000  0.000000        0.000000   \n",
            "1        7.779467e-05  1.058857e-07   0.000016  0.000000        0.067295   \n",
            "2        2.013167e-09  0.000000e+00   0.000000  0.000117        0.000000   \n",
            "3        8.265920e-06  3.236598e-06   0.000887  0.000000        0.000000   \n",
            "4        1.686505e-03  5.009882e-12   0.000000  0.000000        0.000000   \n",
            "5        0.000000e+00  1.939785e-07   0.000000  0.000000        0.018018   \n",
            "6        4.207262e-05  2.842942e-06   0.000071  0.000000        0.000000   \n",
            "7        3.734905e-03  9.255893e-05   0.004212  0.000000        0.000000   \n",
            "8        2.970759e-03  1.552284e-08   0.000008  0.000000        0.000000   \n",
            "9        5.902356e-02  2.098327e-07   0.000016  0.000000        0.000000   \n",
            "\n",
            "         urgent       hot  num_failed_logins  logged_in  num_compromised  ...  \\\n",
            "Cluster                                                                   ...   \n",
            "0           0.0  0.000000           0.000000   0.000000         0.000000  ...   \n",
            "1           0.0  0.000000           0.000000   0.000000         0.000000  ...   \n",
            "2           0.0  0.000000           0.000000   0.000000         0.000000  ...   \n",
            "3           0.0  0.002561           0.000000   0.999495         0.000041  ...   \n",
            "4           0.0  0.000000           0.000000   0.000000         0.000000  ...   \n",
            "5           0.0  0.000000           0.000000   0.000000         0.000000  ...   \n",
            "6           0.0  0.000072           0.000000   0.992432         0.000000  ...   \n",
            "7           0.0  0.072970           0.000303   0.779123         0.000056  ...   \n",
            "8           0.0  0.000135           0.000810   0.002024         0.000000  ...   \n",
            "9           0.0  0.000000           0.000000   0.000000         0.000000  ...   \n",
            "\n",
            "         flag_REJ  flag_RSTO  flag_RSTOS0  flag_RSTR   flag_S0   flag_S1  \\\n",
            "Cluster                                                                    \n",
            "0        0.000000   0.000000     0.000000   0.000000  0.000000  0.000000   \n",
            "1        0.000000   0.000000     0.000000   0.000000  0.000000  0.000000   \n",
            "2        0.000000   0.000000     0.000117   0.000000  0.999061  0.000000   \n",
            "3        0.000000   0.000674     0.000000   0.001685  0.000505  0.000842   \n",
            "4        0.940512   0.023448     0.000000   0.036040  0.000000  0.000000   \n",
            "5        0.000000   0.000000     0.000000   0.000000  0.000000  0.000000   \n",
            "6        0.000000   0.002162     0.000000   0.003243  0.003243  0.000000   \n",
            "7        0.000000   0.001513     0.000000   0.006051  0.000000  0.000000   \n",
            "8        0.989879   0.004049     0.000000   0.006073  0.000000  0.000000   \n",
            "9        0.000000   0.000000     0.000000   0.000000  0.000000  0.000000   \n",
            "\n",
            "          flag_S2   flag_S3   flag_SF   flag_SH  \n",
            "Cluster                                          \n",
            "0        0.000000  0.000000  1.000000  0.000000  \n",
            "1        0.000000  0.000000  1.000000  0.000000  \n",
            "2        0.000000  0.000000  0.000000  0.000822  \n",
            "3        0.000337  0.000000  0.995957  0.000000  \n",
            "4        0.000000  0.000000  0.000000  0.000000  \n",
            "5        0.000000  0.000000  1.000000  0.000000  \n",
            "6        0.000000  0.000000  0.991351  0.000000  \n",
            "7        0.000000  0.001513  0.989410  0.000000  \n",
            "8        0.000000  0.000000  0.000000  0.000000  \n",
            "9        0.000000  0.000000  1.000000  0.000000  \n",
            "\n",
            "[10 rows x 118 columns]\n"
          ]
        }
      ]
    },
    {
      "cell_type": "markdown",
      "source": [
        "# Step 9: Visualizing Clusters with PCA\n",
        "\n",
        "---\n",
        "\n"
      ],
      "metadata": {
        "id": "uwyV_qKqvcaI"
      }
    },
    {
      "cell_type": "code",
      "source": [
        "import matplotlib.pyplot as plt\n",
        "from sklearn.decomposition import PCA\n",
        "\n",
        "pca = PCA(n_components=2)\n",
        "reduced_data = pca.fit_transform(features_sampled.iloc[:, :-1])\n",
        "\n",
        "plt.scatter(reduced_data[:, 0], reduced_data[:, 1], c=clusters, cmap='viridis', s=10)\n",
        "plt.title(\"Cluster Visualization\")\n",
        "plt.xlabel(\"PCA Component 1\")\n",
        "plt.ylabel(\"PCA Component 2\")\n",
        "plt.colorbar(label='Cluster')\n",
        "plt.show()\n"
      ],
      "metadata": {
        "id": "0pZSLMq0OEBR",
        "colab": {
          "base_uri": "https://localhost:8080/",
          "height": 472
        },
        "outputId": "2b60b59b-fb8c-4e9e-9124-af38e1104f4d"
      },
      "execution_count": 26,
      "outputs": [
        {
          "output_type": "display_data",
          "data": {
            "text/plain": [
              "<Figure size 640x480 with 2 Axes>"
            ],
            "image/png": "[encoded data removed]"
          },
          "metadata": {}
        }
      ]
    },
    {
      "cell_type": "markdown",
      "source": [
        "# Step 10: Silhouette Score for Different Cluster Sizes\n",
        "\n",
        "---\n",
        "\n"
      ],
      "metadata": {
        "id": "hwQsyTgMvlZS"
      }
    },
    {
      "cell_type": "code",
      "source": [
        "for k in range(2, 10):\n",
        "    kmeans = KMeans(n_clusters=k, random_state=42)\n",
        "    kmeans.fit(features_sampled.iloc[:, :-1])\n",
        "    clusters = kmeans.labels_\n",
        "    score = silhouette_score(features_sampled.iloc[:, :-1], clusters)\n",
        "    print(f\"Silhouette Score for {k} clusters: {score}\")\n"
      ],
      "metadata": {
        "id": "ve3yIbSbOJBN",
        "colab": {
          "base_uri": "https://localhost:8080/"
        },
        "outputId": "1054f034-205d-4670-b1bd-365c08771ede"
      },
      "execution_count": 31,
      "outputs": [
        {
          "output_type": "stream",
          "name": "stdout",
          "text": [
            "Silhouette Score for 2 clusters: 0.6704916384521792\n",
            "Silhouette Score for 3 clusters: 0.7816597833368657\n",
            "Silhouette Score for 4 clusters: 0.8391690873494573\n",
            "Silhouette Score for 5 clusters: 0.8588089140826596\n",
            "Silhouette Score for 6 clusters: 0.8565252030574025\n",
            "Silhouette Score for 7 clusters: 0.8631139651018973\n",
            "Silhouette Score for 8 clusters: 0.8686736851651858\n",
            "Silhouette Score for 9 clusters: 0.8734558243573176\n"
          ]
        }
      ]
    },
    {
      "cell_type": "code",
      "source": [
        "from sklearn.model_selection import train_test_split\n",
        "\n",
        "# Split data\n",
        "train_data, test_data = train_test_split(features_sampled, test_size=0.3, random_state=42)\n",
        "\n",
        "# Train K-means on training data\n",
        "kmeans.fit(train_data.iloc[:, :-1])\n",
        "\n",
        "# Predict clusters for test data\n",
        "test_clusters = kmeans.predict(test_data.iloc[:, :-1])\n",
        "\n",
        "# Analyze cluster characteristics\n",
        "test_data['Predicted_Cluster'] = test_clusters\n"
      ],
      "metadata": {
        "id": "yU9Y8mJdRhUZ"
      },
      "execution_count": 32,
      "outputs": []
    },
    {
      "cell_type": "markdown",
      "source": [
        "# Step 11: Anomaly Detection\n",
        "\n",
        "---\n",
        "\n"
      ],
      "metadata": {
        "id": "XmBch-_nvvn9"
      }
    },
    {
      "cell_type": "code",
      "source": [
        "# Calculate distances of each point from its cluster center\n",
        "distances = kmeans.transform(features_sampled.iloc[:, :-1]).min(axis=1)\n",
        "\n",
        "# Set threshold for anomalies (e.g., points far from centroids)\n",
        "threshold = distances.mean() + 2 * distances.std()\n",
        "\n",
        "# Flag anomalies\n",
        "features_sampled['Anomaly'] = distances > threshold\n",
        "\n",
        "# Check anomaly distribution\n",
        "print(features_sampled['Anomaly'].value_counts())\n"
      ],
      "metadata": {
        "id": "Tm16vyKmRls5",
        "colab": {
          "base_uri": "https://localhost:8080/"
        },
        "outputId": "83e4a0cf-3bf3-43e4-c23a-8146ab1dd9f5"
      },
      "execution_count": 33,
      "outputs": [
        {
          "output_type": "stream",
          "name": "stdout",
          "text": [
            "Anomaly\n",
            "False    46419\n",
            "True      2983\n",
            "Name: count, dtype: int64\n"
          ]
        }
      ]
    },
    {
      "cell_type": "markdown",
      "source": [
        "# Step 12: Synthetic Data Generation\n",
        "\n",
        "---\n",
        "\n",
        "\"\"\"\n",
        "\n",
        "The synthetic data generated for this project is designed to mimic the features typically found in network traffic datasets, which are often used in network intrusion detection systems (IDS). These datasets contain a variety of connection attributes that help identify normal and abnormal network behavior.\n",
        "\n",
        "In this case, the synthetic dataset includes **40+ features** representing various characteristics of network connections, such as:\n",
        "- **Duration**: Duration of the network connection (in seconds).\n",
        "- **Bytes Transferred**: The amount of data sent (src_bytes) and received (dst_bytes) during the connection.\n",
        "- **Flags and Indicators**: Binary features like `land`, `urgent`, `hot`, which may represent special flags or behavior in the connection.\n",
        "- **Login Attempts**: Features like `num_failed_logins` and `logged_in`, indicating the number of failed login attempts or if a user is logged in.\n",
        "- **Error Rates**: Features such as `serror_rate`, `srv_serror_rate`, representing the error rates for different types of service failures.\n",
        "\n",
        "Additionally, this synthetic dataset also includes outliers or **anomalies**, which are randomly inserted into the dataset. These anomalies could represent abnormal patterns, such as unusual spikes in traffic or failed login attempts, that may indicate potential network threats like Denial of Service (DoS) attacks, intrusion attempts, or other forms of malicious behavior.\n",
        "\n",
        "By simulating realistic network traffic data with both normal and anomalous patterns, this synthetic dataset provides a basis for testing clustering and anomaly detection techniques, helping to identify patterns and behaviors that deviate from the norm.\n",
        "\n",
        "The synthetic dataset allows for testing and experimenting with machine learning algorithms without the need for actual network data, which may be difficult to obtain or anonymize.\n",
        "\"\"\"\n"
      ],
      "metadata": {
        "id": "za7dTYVuvyCx"
      }
    },
    {
      "cell_type": "code",
      "source": [
        "import numpy as np\n",
        "import pandas as pd\n",
        "\n",
        "# Define synthetic data generation function\n",
        "def generate_synthetic_data(num_samples=100):\n",
        "    # Create synthetic data with random values based on the feature columns\n",
        "    synthetic_data = pd.DataFrame({\n",
        "        'duration': np.random.randint(1, 5000, num_samples),  # Simulating durations ranging from 1 to 5000 seconds\n",
        "        'src_bytes': np.random.randint(0, 50000, num_samples),  # Source bytes ranging from 0 to 50000\n",
        "        'dst_bytes': np.random.randint(0, 50000, num_samples),  # Destination bytes ranging from 0 to 50000\n",
        "        'land': np.random.choice([0, 1], num_samples, p=[0.98, 0.02]),  # 'land' feature: rare 1's\n",
        "        'wrong_fragment': np.random.choice([0, 1], num_samples, p=[0.95, 0.05]),  # Rare wrong fragments\n",
        "        'urgent': np.random.choice([0, 1], num_samples, p=[0.9, 0.1]),  # Urgent flag: low occurrence\n",
        "        'hot': np.random.choice([0, 1], num_samples, p=[0.95, 0.05]),  # Hot flag: low occurrence\n",
        "        'num_failed_logins': np.random.randint(0, 10, num_samples),  # Failed login attempts\n",
        "        'logged_in': np.random.choice([0, 1], num_samples),  # Whether the user is logged in or not\n",
        "        'num_compromised': np.random.randint(0, 5, num_samples),  # Number of compromised events\n",
        "        'root_shell': np.random.choice([0, 1], num_samples),  # Root shell: rare occurrence\n",
        "        'su_attempted': np.random.randint(0, 5, num_samples),  # Sudo attempts\n",
        "        'num_root': np.random.randint(0, 2, num_samples),  # Number of root accesses\n",
        "        'num_file_creations': np.random.randint(0, 10, num_samples),  # File creations per user\n",
        "        'num_shells': np.random.randint(0, 5, num_samples),  # Number of shell instances\n",
        "        'num_access_files': np.random.randint(0, 50, num_samples),  # Number of access attempts\n",
        "        'num_outbound_cmds': np.random.choice([0, 1], num_samples),  # Outbound commands flag\n",
        "        'is_host_login': np.random.choice([0, 1], num_samples),  # Is the login a host login?\n",
        "        'is_guest_login': np.random.choice([0, 1], num_samples),  # Is it a guest login?\n",
        "        'count': np.random.randint(0, 200, num_samples),  # Count of connections\n",
        "        'srv_count': np.random.randint(0, 200, num_samples),  # Server connection counts\n",
        "        'serror_rate': np.random.uniform(0, 0.5, num_samples),  # Server error rate\n",
        "        'srv_serror_rate': np.random.uniform(0, 0.5, num_samples),  # Server-side error rate\n",
        "        'rerror_rate': np.random.uniform(0, 0.5, num_samples),  # Remote error rate\n",
        "        'srv_rerror_rate': np.random.uniform(0, 0.5, num_samples),  # Server-side remote error rate\n",
        "        'same_srv_rate': np.random.uniform(0, 1, num_samples),  # Same service rate\n",
        "        'diff_srv_rate': np.random.uniform(0, 1, num_samples),  # Different service rate\n",
        "        'srv_diff_host_rate': np.random.uniform(0, 1, num_samples),  # Server diff host rate\n",
        "        'dst_host_count': np.random.randint(0, 100, num_samples),  # Destination host count\n",
        "        'dst_host_srv_count': np.random.randint(0, 100, num_samples),  # Destination host service count\n",
        "        'dst_host_same_srv_rate': np.random.uniform(0, 1, num_samples),  # Same service rate for destination hosts\n",
        "        'dst_host_diff_srv_rate': np.random.uniform(0, 1, num_samples),  # Different service rate for destination hosts\n",
        "        'dst_host_same_src_port_rate': np.random.uniform(0, 1, num_samples),  # Same source port rate for destination hosts\n",
        "        'dst_host_srv_diff_host_rate': np.random.uniform(0, 1, num_samples),  # Destination host service diff rate\n",
        "        'dst_host_serror_rate': np.random.uniform(0, 0.5, num_samples),  # Destination host error rate\n",
        "        'dst_host_srv_serror_rate': np.random.uniform(0, 0.5, num_samples),  # Destination host server-side error rate\n",
        "        'dst_host_rerror_rate': np.random.uniform(0, 0.5, num_samples),  # Destination host remote error rate\n",
        "        'dst_host_srv_rerror_rate': np.random.uniform(0, 0.5, num_samples),  # Destination host server-side remote error rate\n",
        "    })\n",
        "\n",
        "    # Add a column to simulate anomalies (e.g., 1% of the data will be anomalies)\n",
        "    anomaly_indices = np.random.choice(synthetic_data.index, size=int(0.01 * num_samples), replace=False)\n",
        "    synthetic_data['Anomaly'] = 0\n",
        "    synthetic_data.loc[anomaly_indices, 'Anomaly'] = 1  # Mark anomalies as 1\n",
        "\n",
        "    # Add clusters for visualization (randomly assign clusters for visualization purposes)\n",
        "    synthetic_data['Cluster'] = np.random.randint(0, 10, num_samples)\n",
        "\n",
        "    # Return synthetic data\n",
        "    return synthetic_data\n",
        "\n",
        "# Generate synthetic data for testing (100 samples)\n",
        "synthetic_data = generate_synthetic_data(num_samples=100)\n",
        "\n",
        "# Display the first few rows of synthetic data\n",
        "print(synthetic_data.head())\n"
      ],
      "metadata": {
        "id": "MX7R7UzVSAAM",
        "colab": {
          "base_uri": "https://localhost:8080/"
        },
        "outputId": "a83b7677-4024-4e92-a076-ed4aea83b072"
      },
      "execution_count": 64,
      "outputs": [
        {
          "output_type": "stream",
          "name": "stdout",
          "text": [
            "   duration  src_bytes  dst_bytes  land  wrong_fragment  urgent  hot  \\\n",
            "0       142      15931      12375     0               0       0    0   \n",
            "1      4332      41573      23468     0               0       0    0   \n",
            "2      3905      36336       7778     0               0       0    0   \n",
            "3      3441      10340      25838     0               0       0    0   \n",
            "4      4461      23546      23941     0               0       0    0   \n",
            "\n",
            "   num_failed_logins  logged_in  num_compromised  ...  dst_host_same_srv_rate  \\\n",
            "0                  0          0                3  ...                0.332269   \n",
            "1                  0          1                4  ...                0.552731   \n",
            "2                  2          1                4  ...                0.411547   \n",
            "3                  5          0                0  ...                0.532286   \n",
            "4                  7          0                3  ...                0.370742   \n",
            "\n",
            "   dst_host_diff_srv_rate  dst_host_same_src_port_rate  \\\n",
            "0                0.360179                     0.036843   \n",
            "1                0.525080                     0.999193   \n",
            "2                0.825571                     0.761089   \n",
            "3                0.838265                     0.679041   \n",
            "4                0.472817                     0.612933   \n",
            "\n",
            "   dst_host_srv_diff_host_rate  dst_host_serror_rate  \\\n",
            "0                     0.363557              0.198365   \n",
            "1                     0.778993              0.389283   \n",
            "2                     0.094647              0.241480   \n",
            "3                     0.978200              0.359589   \n",
            "4                     0.871655              0.042099   \n",
            "\n",
            "   dst_host_srv_serror_rate  dst_host_rerror_rate  dst_host_srv_rerror_rate  \\\n",
            "0                  0.464376              0.000434                  0.384995   \n",
            "1                  0.472949              0.237554                  0.065729   \n",
            "2                  0.457374              0.172315                  0.003645   \n",
            "3                  0.439197              0.197799                  0.165592   \n",
            "4                  0.432206              0.484553                  0.344594   \n",
            "\n",
            "   Anomaly  Cluster  \n",
            "0        0        5  \n",
            "1        1        6  \n",
            "2        0        8  \n",
            "3        0        1  \n",
            "4        0        2  \n",
            "\n",
            "[5 rows x 40 columns]\n"
          ]
        }
      ]
    },
    {
      "cell_type": "markdown",
      "source": [
        "# Step 13: Preprocess Synthetic Data\n",
        "\n",
        "---\n",
        "\n"
      ],
      "metadata": {
        "id": "cgXjmGg0v1ji"
      }
    },
    {
      "cell_type": "code",
      "source": [
        "from sklearn.preprocessing import MinMaxScaler\n",
        "\n",
        "# Normalize the synthetic data to match the feature range\n",
        "scaler = MinMaxScaler()\n",
        "synthetic_data_scaled = scaler.fit_transform(synthetic_data)\n",
        "\n",
        "# Convert to DataFrame\n",
        "synthetic_data_scaled = pd.DataFrame(synthetic_data_scaled, columns=synthetic_data.columns)\n",
        "\n",
        "# Display the scaled synthetic data\n",
        "print(synthetic_data_scaled.head())\n"
      ],
      "metadata": {
        "id": "qt9N_EnwSDMV",
        "colab": {
          "base_uri": "https://localhost:8080/"
        },
        "outputId": "5aff914d-92d7-4be6-c4e4-0f42ec5c86f9"
      },
      "execution_count": 65,
      "outputs": [
        {
          "output_type": "stream",
          "name": "stdout",
          "text": [
            "   duration  src_bytes  dst_bytes  land  wrong_fragment  urgent  hot  \\\n",
            "0  0.006373   0.312659   0.238571   0.0             0.0     0.0  0.0   \n",
            "1  0.867804   0.833425   0.463171   0.0             0.0     0.0  0.0   \n",
            "2  0.780016   0.727066   0.145495   0.0             0.0     0.0  0.0   \n",
            "3  0.684622   0.199110   0.511156   0.0             0.0     0.0  0.0   \n",
            "4  0.894326   0.467312   0.472748   0.0             0.0     0.0  0.0   \n",
            "\n",
            "   num_failed_logins  logged_in  num_compromised  ...  dst_host_same_srv_rate  \\\n",
            "0           0.000000        0.0             0.75  ...                0.329287   \n",
            "1           0.000000        1.0             1.00  ...                0.550887   \n",
            "2           0.222222        1.0             1.00  ...                0.408975   \n",
            "3           0.555556        0.0             0.00  ...                0.530336   \n",
            "4           0.777778        0.0             0.75  ...                0.367959   \n",
            "\n",
            "   dst_host_diff_srv_rate  dst_host_same_src_port_rate  \\\n",
            "0                0.365622                     0.027469   \n",
            "1                0.533190                     1.000000   \n",
            "2                0.838540                     0.759377   \n",
            "3                0.851440                     0.676461   \n",
            "4                0.480081                     0.609653   \n",
            "\n",
            "   dst_host_srv_diff_host_rate  dst_host_serror_rate  \\\n",
            "0                     0.367146              0.382552   \n",
            "1                     0.787286              0.774199   \n",
            "2                     0.095191              0.470996   \n",
            "3                     0.988748              0.713286   \n",
            "4                     0.880997              0.061990   \n",
            "\n",
            "   dst_host_srv_serror_rate  dst_host_rerror_rate  dst_host_srv_rerror_rate  \\\n",
            "0                  0.935087              0.000000                  0.771865   \n",
            "1                  0.952505              0.482582                  0.125667   \n",
            "2                  0.920860              0.349809                  0.000008   \n",
            "3                  0.883929              0.401675                  0.327791   \n",
            "4                  0.869724              0.985272                  0.690092   \n",
            "\n",
            "   Anomaly   Cluster  \n",
            "0      0.0  0.555556  \n",
            "1      1.0  0.666667  \n",
            "2      0.0  0.888889  \n",
            "3      0.0  0.111111  \n",
            "4      0.0  0.222222  \n",
            "\n",
            "[5 rows x 40 columns]\n"
          ]
        }
      ]
    },
    {
      "cell_type": "code",
      "source": [
        "# Get the feature names from the trained model (this is based on the features used to train the model)\n",
        "model_features = features_scaled.columns.tolist()\n",
        "\n",
        "# Check the synthetic data columns\n",
        "synthetic_data_scaled_columns = synthetic_data_scaled.columns.tolist()\n",
        "\n",
        "# Display which columns are missing in the synthetic data\n",
        "missing_columns = set(model_features) - set(synthetic_data_scaled_columns)\n",
        "print(f\"Missing columns: {missing_columns}\")\n"
      ],
      "metadata": {
        "id": "nsbkvwhJSFaC",
        "colab": {
          "base_uri": "https://localhost:8080/"
        },
        "outputId": "150a6a26-b317-49b6-c87f-1d913da0dc55"
      },
      "execution_count": 66,
      "outputs": [
        {
          "output_type": "stream",
          "name": "stdout",
          "text": [
            "Missing columns: {'service_eco_i', 'service_nnsp', 'protocol_type_udp', 'service_urh_i', 'service_netbios_ns', 'service_uucp_path', 'service_vmnet', 'flag_RSTOS0', 'service_klogin', 'flag_S0', 'service_pop_2', 'service_finger', 'service_link', 'service_red_i', 'service_daytime', 'flag_S3', 'service_echo', 'service_ftp', 'service_telnet', 'service_tftp_u', 'service_exec', 'service_sql_net', 'service_http_443', 'service_sunrpc', 'service_urp_i', 'service_http', 'service_ecr_i', 'service_ctf', 'service_ssh', 'service_discard', 'service_netbios_dgm', 'flag_SF', 'service_bgp', 'service_whois', 'service_IRC', 'service_csnet_ns', 'service_printer', 'service_courier', 'service_hostnames', 'flag_RSTR', 'flag_OTH', 'service_X11', 'service_imap4', 'service_iso_tsap', 'service_tim_i', 'service_Z39_50', 'service_domain', 'service_ntp_u', 'flag_S2', 'protocol_type_icmp', 'service_uucp', 'service_kshell', 'flag_RSTO', 'service_smtp', 'service_systat', 'service_supdup', 'service_shell', 'service_login', 'service_time', 'service_ldap', 'service_efs', 'service_pm_dump', 'service_name', 'service_mtp', 'service_private', 'flag_REJ', 'flag_SH', 'service_other', 'service_netbios_ssn', 'service_netstat', 'service_domain_u', 'service_auth', 'service_remote_job', 'protocol_type_tcp', 'flag_S1', 'service_pop_3', 'service_gopher', 'service_ftp_data', 'service_rje', 'service_nntp'}\n"
          ]
        }
      ]
    },
    {
      "cell_type": "code",
      "source": [
        "# Ensure synthetic_data_scaled is a copy to avoid the warning\n",
        "synthetic_data_scaled = synthetic_data_scaled.copy()\n",
        "\n",
        "# Step 1: Add missing columns to the synthetic data and initialize them with zero values\n",
        "for col in missing_columns:\n",
        "    synthetic_data_scaled[col] = 0\n",
        "\n",
        "# Step 2: Reorder columns to match the model's original columns\n",
        "synthetic_data_scaled = synthetic_data_scaled[model_features]\n",
        "\n",
        "# Step 3: Remove the 'Cluster' column if it exists\n",
        "if 'Cluster' in synthetic_data_scaled.columns:\n",
        "    synthetic_data_scaled = synthetic_data_scaled.drop(columns=['Cluster'])\n",
        "\n",
        "# Step 4: Use the trained KMeans model to predict clusters for the synthetic data\n",
        "synthetic_clusters = kmeans.predict(synthetic_data_scaled)\n",
        "\n",
        "# Add the cluster assignments to the synthetic data using .loc to avoid the warning\n",
        "synthetic_data_scaled.loc[:, 'Cluster'] = synthetic_clusters\n",
        "\n",
        "# Display the synthetic data with assigned clusters\n",
        "print(synthetic_data_scaled.head())\n"
      ],
      "metadata": {
        "id": "KrU5hEDnURLj",
        "colab": {
          "base_uri": "https://localhost:8080/"
        },
        "outputId": "057d5a16-fb9e-4655-e382-6a8c421c80fa"
      },
      "execution_count": 67,
      "outputs": [
        {
          "output_type": "stream",
          "name": "stdout",
          "text": [
            "   duration  src_bytes  dst_bytes  land  wrong_fragment  urgent  hot  \\\n",
            "0  0.006373   0.312659   0.238571   0.0             0.0     0.0  0.0   \n",
            "1  0.867804   0.833425   0.463171   0.0             0.0     0.0  0.0   \n",
            "2  0.780016   0.727066   0.145495   0.0             0.0     0.0  0.0   \n",
            "3  0.684622   0.199110   0.511156   0.0             0.0     0.0  0.0   \n",
            "4  0.894326   0.467312   0.472748   0.0             0.0     0.0  0.0   \n",
            "\n",
            "   num_failed_logins  logged_in  num_compromised  ...  flag_RSTO  flag_RSTOS0  \\\n",
            "0           0.000000        0.0             0.75  ...          0            0   \n",
            "1           0.000000        1.0             1.00  ...          0            0   \n",
            "2           0.222222        1.0             1.00  ...          0            0   \n",
            "3           0.555556        0.0             0.00  ...          0            0   \n",
            "4           0.777778        0.0             0.75  ...          0            0   \n",
            "\n",
            "   flag_RSTR  flag_S0  flag_S1  flag_S2  flag_S3  flag_SF  flag_SH  Cluster  \n",
            "0          0        0        0        0        0        0        0        5  \n",
            "1          0        0        0        0        0        0        0        8  \n",
            "2          0        0        0        0        0        0        0        8  \n",
            "3          0        0        0        0        0        0        0        6  \n",
            "4          0        0        0        0        0        0        0        5  \n",
            "\n",
            "[5 rows x 119 columns]\n"
          ]
        }
      ]
    },
    {
      "cell_type": "code",
      "source": [
        "# Calculate distances of each point from its assigned cluster center\n",
        "distances = kmeans.transform(synthetic_data_scaled.iloc[:, :-1]).min(axis=1)\n",
        "\n",
        "# Set a threshold for anomaly detection (e.g., points far from the centroid)\n",
        "threshold = distances.mean() + 2 * distances.std()\n",
        "\n",
        "# Flag anomalies\n",
        "synthetic_data_scaled['Anomaly'] = distances > threshold\n",
        "\n",
        "# Display the anomalies\n",
        "print(synthetic_data_scaled[synthetic_data_scaled['Anomaly'] == True])\n"
      ],
      "metadata": {
        "id": "sOz6mrHIUx1N",
        "colab": {
          "base_uri": "https://localhost:8080/"
        },
        "outputId": "4411d16e-501e-484f-dd0a-656dbeab53e2"
      },
      "execution_count": 68,
      "outputs": [
        {
          "output_type": "stream",
          "name": "stdout",
          "text": [
            "    duration  src_bytes  dst_bytes  land  wrong_fragment  urgent  hot  \\\n",
            "15  0.394120   0.998964   0.908099   0.0             0.0     0.0  1.0   \n",
            "23  0.912212   0.276407   0.466532   0.0             0.0     0.0  0.0   \n",
            "\n",
            "    num_failed_logins  logged_in  num_compromised  ...  flag_RSTOS0  \\\n",
            "15           0.777778        1.0             0.75  ...            0   \n",
            "23           0.888889        1.0             0.25  ...            0   \n",
            "\n",
            "    flag_RSTR  flag_S0  flag_S1  flag_S2  flag_S3  flag_SF  flag_SH  Cluster  \\\n",
            "15          0        0        0        0        0        0        0        8   \n",
            "23          0        0        0        0        0        0        0        8   \n",
            "\n",
            "    Anomaly  \n",
            "15     True  \n",
            "23     True  \n",
            "\n",
            "[2 rows x 120 columns]\n"
          ]
        }
      ]
    },
    {
      "cell_type": "markdown",
      "source": [
        "# Step 14: Predict Clusters for Synthetic Data\n",
        "\n",
        "---\n",
        "\n"
      ],
      "metadata": {
        "id": "Ls7Z2RvCwAGQ"
      }
    },
    {
      "cell_type": "code",
      "source": [
        "import matplotlib.pyplot as plt\n",
        "import seaborn as sns\n",
        "\n",
        "# Ensure 'Anomaly' is a boolean column before mapping\n",
        "synthetic_data_scaled['Anomaly'] = synthetic_data_scaled['Anomaly'].map({True: 'Anomaly', False: 'Normal'})\n",
        "\n",
        "# Check data integrity\n",
        "print(synthetic_data_scaled[['duration', 'src_bytes', 'Anomaly', 'Cluster']].head())\n",
        "\n",
        "# Visualize the clusters with anomalies highlighted\n",
        "plt.figure(figsize=(12, 8))\n",
        "sns.scatterplot(\n",
        "    x=synthetic_data_scaled['duration'],\n",
        "    y=synthetic_data_scaled['src_bytes'],\n",
        "    hue=synthetic_data_scaled['Anomaly'],\n",
        "    style=synthetic_data_scaled['Cluster'],\n",
        "    palette={'Anomaly': 'red', 'Normal': 'blue'},\n",
        "    markers=[\"o\", \"X\"],\n",
        "    s=100  # Adjust marker size for better visualization\n",
        ")\n",
        "\n",
        "# Adding plot details\n",
        "plt.title('Synthetic Data Clusters with Anomalies', fontsize=16)\n",
        "plt.xlabel('Duration', fontsize=14)\n",
        "plt.ylabel('Source Bytes', fontsize=14)\n",
        "plt.legend(title='Anomaly Status', fontsize=12)\n",
        "plt.grid(True, linestyle='--', alpha=0.6)\n",
        "plt.tight_layout()\n",
        "\n",
        "# Show the plot\n",
        "plt.show()\n"
      ],
      "metadata": {
        "id": "FIhvwBY9U2Y8",
        "colab": {
          "base_uri": "https://localhost:8080/",
          "height": 676
        },
        "outputId": "e49658ba-d75e-48e9-83e8-871e15cdf3e1"
      },
      "execution_count": 69,
      "outputs": [
        {
          "output_type": "stream",
          "name": "stdout",
          "text": [
            "   duration  src_bytes Anomaly  Cluster\n",
            "0  0.006373   0.312659  Normal        5\n",
            "1  0.867804   0.833425  Normal        8\n",
            "2  0.780016   0.727066  Normal        8\n",
            "3  0.684622   0.199110  Normal        6\n",
            "4  0.894326   0.467312  Normal        5\n"
          ]
        },
        {
          "output_type": "stream",
          "name": "stderr",
          "text": [
            "<ipython-input-69-758f5f7c0dc2>:12: UserWarning: \n",
            "The markers list has fewer values (2) than needed (6) and will cycle, which may produce an uninterpretable plot.\n",
            "  sns.scatterplot(\n"
          ]
        },
        {
          "output_type": "display_data",
          "data": {
            "text/plain": [
              "<Figure size 1200x800 with 1 Axes>"
            ],
            "image/png": "[encoded data removed]"
          },
          "metadata": {}
        }
      ]
    },
    {
      "cell_type": "markdown",
      "source": [
        "Additional documentation is provided in report.\n",
        "\n",
        "*# END...*"
      ],
      "metadata": {
        "id": "3xrqKC0YT5kY"
      }
    }
  ]
}