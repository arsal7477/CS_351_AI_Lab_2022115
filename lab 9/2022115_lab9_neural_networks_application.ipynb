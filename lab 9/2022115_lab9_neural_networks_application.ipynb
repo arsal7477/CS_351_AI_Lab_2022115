{
  "nbformat": 4,
  "nbformat_minor": 0,
  "metadata": {
    "colab": {
      "provenance": []
    },
    "kernelspec": {
      "name": "python3",
      "display_name": "Python 3"
    },
    "language_info": {
      "name": "python"
    },
    "widgets": {
      "application/vnd.jupyter.widget-state+json": {
        "4e8c50c2138546baa0508f0c3ea254c6": {
          "model_module": "@jupyter-widgets/controls",
          "model_name": "VBoxModel",
          "model_module_version": "1.5.0",
          "state": {
            "_dom_classes": [
              "widget-interact"
            ],
            "_model_module": "@jupyter-widgets/controls",
            "_model_module_version": "1.5.0",
            "_model_name": "VBoxModel",
            "_view_count": null,
            "_view_module": "@jupyter-widgets/controls",
            "_view_module_version": "1.5.0",
            "_view_name": "VBoxView",
            "box_style": "",
            "children": [
              "IPY_MODEL_a34597cf227e4d9195f92ace22a3b2b5",
              "IPY_MODEL_6c5a311bc17c41f483ece5be04435ddd",
              "IPY_MODEL_6cb8eaced9d040dba4bb8f6fec67c9ac",
              "IPY_MODEL_f02a636df9954d4bb52cfa173557779d",
              "IPY_MODEL_8ddfecd16a5548b5881a4afa907cdcd6",
              "IPY_MODEL_2b2d1f987640450f80cf74b6964acb46",
              "IPY_MODEL_c95c02a660214462affa58f8f78b4412",
              "IPY_MODEL_ffe67b958f6d49a4bb4b558bd8d1c6b8",
              "IPY_MODEL_745f13cd647c420b85c39ab00e67464d"
            ],
            "layout": "IPY_MODEL_ead02ce6e64842f692c4cb9776780681"
          }
        },
        "a34597cf227e4d9195f92ace22a3b2b5": {
          "model_module": "@jupyter-widgets/controls",
          "model_name": "FloatSliderModel",
          "model_module_version": "1.5.0",
          "state": {
            "_dom_classes": [],
            "_model_module": "@jupyter-widgets/controls",
            "_model_module_version": "1.5.0",
            "_model_name": "FloatSliderModel",
            "_view_count": null,
            "_view_module": "@jupyter-widgets/controls",
            "_view_module_version": "1.5.0",
            "_view_name": "FloatSliderView",
            "continuous_update": true,
            "description": "Median Income:",
            "description_tooltip": null,
            "disabled": false,
            "layout": "IPY_MODEL_7497866ce8f840328af59d3cf9601768",
            "max": 15,
            "min": 0,
            "orientation": "horizontal",
            "readout": true,
            "readout_format": ".2f",
            "step": 0.1,
            "style": "IPY_MODEL_df8be07b03c84544af64daecf2c17f61",
            "value": 7
          }
        },
        "6c5a311bc17c41f483ece5be04435ddd": {
          "model_module": "@jupyter-widgets/controls",
          "model_name": "FloatSliderModel",
          "model_module_version": "1.5.0",
          "state": {
            "_dom_classes": [],
            "_model_module": "@jupyter-widgets/controls",
            "_model_module_version": "1.5.0",
            "_model_name": "FloatSliderModel",
            "_view_count": null,
            "_view_module": "@jupyter-widgets/controls",
            "_view_module_version": "1.5.0",
            "_view_name": "FloatSliderView",
            "continuous_update": true,
            "description": "House Age:",
            "description_tooltip": null,
            "disabled": false,
            "layout": "IPY_MODEL_7497866ce8f840328af59d3cf9601768",
            "max": 100,
            "min": 0,
            "orientation": "horizontal",
            "readout": true,
            "readout_format": ".2f",
            "step": 1,
            "style": "IPY_MODEL_b7447e8863dc449b97df2a85fa469e37",
            "value": 20
          }
        },
        "6cb8eaced9d040dba4bb8f6fec67c9ac": {
          "model_module": "@jupyter-widgets/controls",
          "model_name": "FloatSliderModel",
          "model_module_version": "1.5.0",
          "state": {
            "_dom_classes": [],
            "_model_module": "@jupyter-widgets/controls",
            "_model_module_version": "1.5.0",
            "_model_name": "FloatSliderModel",
            "_view_count": null,
            "_view_module": "@jupyter-widgets/controls",
            "_view_module_version": "1.5.0",
            "_view_name": "FloatSliderView",
            "continuous_update": true,
            "description": "Average Rooms:",
            "description_tooltip": null,
            "disabled": false,
            "layout": "IPY_MODEL_7497866ce8f840328af59d3cf9601768",
            "max": 10,
            "min": 0,
            "orientation": "horizontal",
            "readout": true,
            "readout_format": ".2f",
            "step": 0.1,
            "style": "IPY_MODEL_989c3e4773a548269113e9d66ebc6839",
            "value": 6
          }
        },
        "f02a636df9954d4bb52cfa173557779d": {
          "model_module": "@jupyter-widgets/controls",
          "model_name": "FloatSliderModel",
          "model_module_version": "1.5.0",
          "state": {
            "_dom_classes": [],
            "_model_module": "@jupyter-widgets/controls",
            "_model_module_version": "1.5.0",
            "_model_name": "FloatSliderModel",
            "_view_count": null,
            "_view_module": "@jupyter-widgets/controls",
            "_view_module_version": "1.5.0",
            "_view_name": "FloatSliderView",
            "continuous_update": true,
            "description": "Average Bedrooms:",
            "description_tooltip": null,
            "disabled": false,
            "layout": "IPY_MODEL_7497866ce8f840328af59d3cf9601768",
            "max": 6,
            "min": 0,
            "orientation": "horizontal",
            "readout": true,
            "readout_format": ".2f",
            "step": 0.1,
            "style": "IPY_MODEL_e3a76ef834c04448ac3a6b18851d4149",
            "value": 3
          }
        },
        "8ddfecd16a5548b5881a4afa907cdcd6": {
          "model_module": "@jupyter-widgets/controls",
          "model_name": "FloatSliderModel",
          "model_module_version": "1.5.0",
          "state": {
            "_dom_classes": [],
            "_model_module": "@jupyter-widgets/controls",
            "_model_module_version": "1.5.0",
            "_model_name": "FloatSliderModel",
            "_view_count": null,
            "_view_module": "@jupyter-widgets/controls",
            "_view_module_version": "1.5.0",
            "_view_name": "FloatSliderView",
            "continuous_update": true,
            "description": "Population:",
            "description_tooltip": null,
            "disabled": false,
            "layout": "IPY_MODEL_7497866ce8f840328af59d3cf9601768",
            "max": 2000,
            "min": 0,
            "orientation": "horizontal",
            "readout": true,
            "readout_format": ".2f",
            "step": 50,
            "style": "IPY_MODEL_719c063666a44bdfb378bed658b22d05",
            "value": 100
          }
        },
        "2b2d1f987640450f80cf74b6964acb46": {
          "model_module": "@jupyter-widgets/controls",
          "model_name": "FloatSliderModel",
          "model_module_version": "1.5.0",
          "state": {
            "_dom_classes": [],
            "_model_module": "@jupyter-widgets/controls",
            "_model_module_version": "1.5.0",
            "_model_name": "FloatSliderModel",
            "_view_count": null,
            "_view_module": "@jupyter-widgets/controls",
            "_view_module_version": "1.5.0",
            "_view_name": "FloatSliderView",
            "continuous_update": true,
            "description": "Average Occupants:",
            "description_tooltip": null,
            "disabled": false,
            "layout": "IPY_MODEL_7497866ce8f840328af59d3cf9601768",
            "max": 10,
            "min": 0,
            "orientation": "horizontal",
            "readout": true,
            "readout_format": ".2f",
            "step": 0.1,
            "style": "IPY_MODEL_57f02615710d4f959fdfeecd35bd3ae1",
            "value": 7
          }
        },
        "c95c02a660214462affa58f8f78b4412": {
          "model_module": "@jupyter-widgets/controls",
          "model_name": "FloatSliderModel",
          "model_module_version": "1.5.0",
          "state": {
            "_dom_classes": [],
            "_model_module": "@jupyter-widgets/controls",
            "_model_module_version": "1.5.0",
            "_model_name": "FloatSliderModel",
            "_view_count": null,
            "_view_module": "@jupyter-widgets/controls",
            "_view_module_version": "1.5.0",
            "_view_name": "FloatSliderView",
            "continuous_update": true,
            "description": "Latitude:",
            "description_tooltip": null,
            "disabled": false,
            "layout": "IPY_MODEL_7497866ce8f840328af59d3cf9601768",
            "max": 40,
            "min": 35,
            "orientation": "horizontal",
            "readout": true,
            "readout_format": ".2f",
            "step": 0.1,
            "style": "IPY_MODEL_4d22fb9f7a4f46cd8db182993720eac0",
            "value": 37
          }
        },
        "ffe67b958f6d49a4bb4b558bd8d1c6b8": {
          "model_module": "@jupyter-widgets/controls",
          "model_name": "FloatSliderModel",
          "model_module_version": "1.5.0",
          "state": {
            "_dom_classes": [],
            "_model_module": "@jupyter-widgets/controls",
            "_model_module_version": "1.5.0",
            "_model_name": "FloatSliderModel",
            "_view_count": null,
            "_view_module": "@jupyter-widgets/controls",
            "_view_module_version": "1.5.0",
            "_view_name": "FloatSliderView",
            "continuous_update": true,
            "description": "Longitude:",
            "description_tooltip": null,
            "disabled": false,
            "layout": "IPY_MODEL_7497866ce8f840328af59d3cf9601768",
            "max": -115,
            "min": -125,
            "orientation": "horizontal",
            "readout": true,
            "readout_format": ".2f",
            "step": 0.1,
            "style": "IPY_MODEL_a633091c6cda4c5898e7ad10c02d095e",
            "value": -115
          }
        },
        "745f13cd647c420b85c39ab00e67464d": {
          "model_module": "@jupyter-widgets/output",
          "model_name": "OutputModel",
          "model_module_version": "1.0.0",
          "state": {
            "_dom_classes": [],
            "_model_module": "@jupyter-widgets/output",
            "_model_module_version": "1.0.0",
            "_model_name": "OutputModel",
            "_view_count": null,
            "_view_module": "@jupyter-widgets/output",
            "_view_module_version": "1.0.0",
            "_view_name": "OutputView",
            "layout": "IPY_MODEL_20d0792125204a21950795980eccca5c",
            "msg_id": "",
            "outputs": [
              {
                "output_type": "stream",
                "name": "stdout",
                "text": [
                  "\r\u001b[1m1/1\u001b[0m \u001b[32m━━━━━━━━━━━━━━━━━━━━\u001b[0m\u001b[37m\u001b[0m \u001b[1m0s\u001b[0m 23ms/step"
                ]
              },
              {
                "output_type": "stream",
                "name": "stdout",
                "text": [
                  "\b\b\b\b\b\b\b\b\b\b\b\b\b\b\b\b\b\b\b\b\b\b\b\b\b\b\b\b\b\b\b\b\b\b\b\b\b\r\u001b[1m1/1\u001b[0m \u001b[32m━━━━━━━━━━━━━━━━━━━━\u001b[0m\u001b[37m\u001b[0m \u001b[1m0s\u001b[0m 25ms/step\n"
                ]
              },
              {
                "output_type": "stream",
                "name": "stdout",
                "text": [
                  "Predicted House Price: $1,059.18\n"
                ]
              },
              {
                "output_type": "display_data",
                "data": {
                  "text/plain": "<Figure size 1000x600 with 1 Axes>",
                  "image/png": "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\n"
                },
                "metadata": {}
              }
            ]
          }
        },
        "ead02ce6e64842f692c4cb9776780681": {
          "model_module": "@jupyter-widgets/base",
          "model_name": "LayoutModel",
          "model_module_version": "1.2.0",
          "state": {
            "_model_module": "@jupyter-widgets/base",
            "_model_module_version": "1.2.0",
            "_model_name": "LayoutModel",
            "_view_count": null,
            "_view_module": "@jupyter-widgets/base",
            "_view_module_version": "1.2.0",
            "_view_name": "LayoutView",
            "align_content": null,
            "align_items": null,
            "align_self": null,
            "border": null,
            "bottom": null,
            "display": null,
            "flex": null,
            "flex_flow": null,
            "grid_area": null,
            "grid_auto_columns": null,
            "grid_auto_flow": null,
            "grid_auto_rows": null,
            "grid_column": null,
            "grid_gap": null,
            "grid_row": null,
            "grid_template_areas": null,
            "grid_template_columns": null,
            "grid_template_rows": null,
            "height": null,
            "justify_content": null,
            "justify_items": null,
            "left": null,
            "margin": null,
            "max_height": null,
            "max_width": null,
            "min_height": null,
            "min_width": null,
            "object_fit": null,
            "object_position": null,
            "order": null,
            "overflow": null,
            "overflow_x": null,
            "overflow_y": null,
            "padding": null,
            "right": null,
            "top": null,
            "visibility": null,
            "width": null
          }
        },
        "7497866ce8f840328af59d3cf9601768": {
          "model_module": "@jupyter-widgets/base",
          "model_name": "LayoutModel",
          "model_module_version": "1.2.0",
          "state": {
            "_model_module": "@jupyter-widgets/base",
            "_model_module_version": "1.2.0",
            "_model_name": "LayoutModel",
            "_view_count": null,
            "_view_module": "@jupyter-widgets/base",
            "_view_module_version": "1.2.0",
            "_view_name": "LayoutView",
            "align_content": null,
            "align_items": null,
            "align_self": null,
            "border": null,
            "bottom": null,
            "display": null,
            "flex": null,
            "flex_flow": null,
            "grid_area": null,
            "grid_auto_columns": null,
            "grid_auto_flow": null,
            "grid_auto_rows": null,
            "grid_column": null,
            "grid_gap": null,
            "grid_row": null,
            "grid_template_areas": null,
            "grid_template_columns": null,
            "grid_template_rows": null,
            "height": null,
            "justify_content": null,
            "justify_items": null,
            "left": null,
            "margin": null,
            "max_height": null,
            "max_width": null,
            "min_height": null,
            "min_width": null,
            "object_fit": null,
            "object_position": null,
            "order": null,
            "overflow": null,
            "overflow_x": null,
            "overflow_y": null,
            "padding": null,
            "right": null,
            "top": null,
            "visibility": null,
            "width": "500px"
          }
        },
        "df8be07b03c84544af64daecf2c17f61": {
          "model_module": "@jupyter-widgets/controls",
          "model_name": "SliderStyleModel",
          "model_module_version": "1.5.0",
          "state": {
            "_model_module": "@jupyter-widgets/controls",
            "_model_module_version": "1.5.0",
            "_model_name": "SliderStyleModel",
            "_view_count": null,
            "_view_module": "@jupyter-widgets/base",
            "_view_module_version": "1.2.0",
            "_view_name": "StyleView",
            "description_width": "150px",
            "handle_color": null
          }
        },
        "b7447e8863dc449b97df2a85fa469e37": {
          "model_module": "@jupyter-widgets/controls",
          "model_name": "SliderStyleModel",
          "model_module_version": "1.5.0",
          "state": {
            "_model_module": "@jupyter-widgets/controls",
            "_model_module_version": "1.5.0",
            "_model_name": "SliderStyleModel",
            "_view_count": null,
            "_view_module": "@jupyter-widgets/base",
            "_view_module_version": "1.2.0",
            "_view_name": "StyleView",
            "description_width": "150px",
            "handle_color": null
          }
        },
        "989c3e4773a548269113e9d66ebc6839": {
          "model_module": "@jupyter-widgets/controls",
          "model_name": "SliderStyleModel",
          "model_module_version": "1.5.0",
          "state": {
            "_model_module": "@jupyter-widgets/controls",
            "_model_module_version": "1.5.0",
            "_model_name": "SliderStyleModel",
            "_view_count": null,
            "_view_module": "@jupyter-widgets/base",
            "_view_module_version": "1.2.0",
            "_view_name": "StyleView",
            "description_width": "150px",
            "handle_color": null
          }
        },
        "e3a76ef834c04448ac3a6b18851d4149": {
          "model_module": "@jupyter-widgets/controls",
          "model_name": "SliderStyleModel",
          "model_module_version": "1.5.0",
          "state": {
            "_model_module": "@jupyter-widgets/controls",
            "_model_module_version": "1.5.0",
            "_model_name": "SliderStyleModel",
            "_view_count": null,
            "_view_module": "@jupyter-widgets/base",
            "_view_module_version": "1.2.0",
            "_view_name": "StyleView",
            "description_width": "150px",
            "handle_color": null
          }
        },
        "719c063666a44bdfb378bed658b22d05": {
          "model_module": "@jupyter-widgets/controls",
          "model_name": "SliderStyleModel",
          "model_module_version": "1.5.0",
          "state": {
            "_model_module": "@jupyter-widgets/controls",
            "_model_module_version": "1.5.0",
            "_model_name": "SliderStyleModel",
            "_view_count": null,
            "_view_module": "@jupyter-widgets/base",
            "_view_module_version": "1.2.0",
            "_view_name": "StyleView",
            "description_width": "150px",
            "handle_color": null
          }
        },
        "57f02615710d4f959fdfeecd35bd3ae1": {
          "model_module": "@jupyter-widgets/controls",
          "model_name": "SliderStyleModel",
          "model_module_version": "1.5.0",
          "state": {
            "_model_module": "@jupyter-widgets/controls",
            "_model_module_version": "1.5.0",
            "_model_name": "SliderStyleModel",
            "_view_count": null,
            "_view_module": "@jupyter-widgets/base",
            "_view_module_version": "1.2.0",
            "_view_name": "StyleView",
            "description_width": "150px",
            "handle_color": null
          }
        },
        "4d22fb9f7a4f46cd8db182993720eac0": {
          "model_module": "@jupyter-widgets/controls",
          "model_name": "SliderStyleModel",
          "model_module_version": "1.5.0",
          "state": {
            "_model_module": "@jupyter-widgets/controls",
            "_model_module_version": "1.5.0",
            "_model_name": "SliderStyleModel",
            "_view_count": null,
            "_view_module": "@jupyter-widgets/base",
            "_view_module_version": "1.2.0",
            "_view_name": "StyleView",
            "description_width": "150px",
            "handle_color": null
          }
        },
        "a633091c6cda4c5898e7ad10c02d095e": {
          "model_module": "@jupyter-widgets/controls",
          "model_name": "SliderStyleModel",
          "model_module_version": "1.5.0",
          "state": {
            "_model_module": "@jupyter-widgets/controls",
            "_model_module_version": "1.5.0",
            "_model_name": "SliderStyleModel",
            "_view_count": null,
            "_view_module": "@jupyter-widgets/base",
            "_view_module_version": "1.2.0",
            "_view_name": "StyleView",
            "description_width": "150px",
            "handle_color": null
          }
        },
        "20d0792125204a21950795980eccca5c": {
          "model_module": "@jupyter-widgets/base",
          "model_name": "LayoutModel",
          "model_module_version": "1.2.0",
          "state": {
            "_model_module": "@jupyter-widgets/base",
            "_model_module_version": "1.2.0",
            "_model_name": "LayoutModel",
            "_view_count": null,
            "_view_module": "@jupyter-widgets/base",
            "_view_module_version": "1.2.0",
            "_view_name": "LayoutView",
            "align_content": null,
            "align_items": null,
            "align_self": null,
            "border": null,
            "bottom": null,
            "display": null,
            "flex": null,
            "flex_flow": null,
            "grid_area": null,
            "grid_auto_columns": null,
            "grid_auto_flow": null,
            "grid_auto_rows": null,
            "grid_column": null,
            "grid_gap": null,
            "grid_row": null,
            "grid_template_areas": null,
            "grid_template_columns": null,
            "grid_template_rows": null,
            "height": null,
            "justify_content": null,
            "justify_items": null,
            "left": null,
            "margin": null,
            "max_height": null,
            "max_width": null,
            "min_height": null,
            "min_width": null,
            "object_fit": null,
            "object_position": null,
            "order": null,
            "overflow": null,
            "overflow_x": null,
            "overflow_y": null,
            "padding": null,
            "right": null,
            "top": null,
            "visibility": null,
            "width": null
          }
        }
      }
    }
  },
  "cells": [
    {
      "cell_type": "markdown",
      "source": [
        "<center>\n",
        "  <img src=\"https://i.imgur.com/zze0EHS.png\" alt=\"giki Logo\" width=\"200\">\n",
        "  <div>\n",
        "  </center>\n",
        "    <h1><strong>Arsalan Khan</strong></h1>\n",
        "    <h3><strong>2022115</strong></h3>\n",
        "    <h3><strong>CS 351L - AI Lab 8 Application</strong></h3>\n",
        "    <h3><strong>BS Cybersecurity - 5th Semester</strong></h3>\n",
        "    <h3><strong>Submitted to: Sir Usama Arshad, PhD CS</strong></h3>\n",
        "  </div>\n",
        "\n",
        "\n",
        "---"
      ],
      "metadata": {
        "id": "R5cQ2wF8ub5_"
      }
    },
    {
      "cell_type": "markdown",
      "source": [
        "# **Housing Price Prediction Using Neural Networks**\n",
        "\n",
        "---\n",
        "\n",
        "\n",
        "\n",
        "In this notebook, we will build a model to predict housing prices using a dataset from the UCI Machine Learning Repository. We will process the data, split it into training and testing sets, and then train a neural network model using Keras and TensorFlow. Additionally, we will make the model's predictions interactive using widgets, allowing for real-time prediction based on user inputs.\n",
        "\n",
        "We'll also visualize the model's predictions, evaluate its performance, and explore how the model learns during training. By the end, you will have a working, interactive tool that predicts housing prices based on several key features.\n",
        "\n",
        "## Steps:\n",
        "1. **Data Processing**: Load the dataset, handle missing values, and scale the features.\n",
        "2. **Model Building**: Create a neural network for price prediction.\n",
        "3. **Evaluation**: Assess the model's performance using metrics like MAE, MSE, and RMSE.\n",
        "4. **Interactive Prediction**: Use widgets to allow real-time predictions with user input.\n",
        "5. **Visualization**: Display various plots showing model performance and feature relationships.\n"
      ],
      "metadata": {
        "id": "5Z-QCp4itI0L"
      }
    },
    {
      "cell_type": "markdown",
      "source": [
        "### 1. Import Libraries and Load Dataset\n",
        "This section imports the necessary libraries and loads the housing dataset from a URL. It also handles missing values and sets appropriate column names.\n"
      ],
      "metadata": {
        "id": "1HRGKyofpBrT"
      }
    },
    {
      "cell_type": "code",
      "execution_count": 26,
      "metadata": {
        "id": "fKR4S0AeZcgb"
      },
      "outputs": [],
      "source": [
        "import pandas as pd\n",
        "import numpy as np\n",
        "import matplotlib.pyplot as plt\n",
        "from sklearn.model_selection import train_test_split\n",
        "from sklearn.preprocessing import StandardScaler\n",
        "from tensorflow.keras.models import Sequential\n",
        "from tensorflow.keras.layers import Dense\n",
        "import ipywidgets as widgets\n",
        "from ipywidgets import interact\n",
        "\n",
        "# URL of the dataset (replace with the correct link)\n",
        "url = \"https://raw.githubusercontent.com/jbrownlee/Datasets/master/housing.csv\"\n",
        "\n",
        "# Load the dataset directly from the URL\n",
        "df = pd.read_csv(url, header=None)\n",
        "\n",
        "# Set the appropriate column names\n",
        "df.columns = ['MedInc', 'HouseAge', 'AveRooms', 'AveBedrms', 'Population', 'AveOccup', 'Latitude', 'Longitude', 'Price',\n",
        "              'OtherFeature1', 'OtherFeature2', 'OtherFeature3', 'OtherFeature4', 'OtherFeature5']\n",
        "\n",
        "# Handle missing values (if any) by filling them with the mean of the column\n",
        "df.fillna(df.mean(), inplace=True)\n",
        "\n",
        "# Define features and target\n",
        "features = ['MedInc', 'HouseAge', 'AveRooms', 'AveBedrms', 'Population', 'AveOccup', 'Latitude', 'Longitude']\n",
        "X = df[features]\n",
        "y = df['Price']\n"
      ]
    },
    {
      "cell_type": "markdown",
      "source": [
        "### 2. Train-Test Split and Feature Scaling\n",
        "In this section, we split the data into training and testing sets and then apply feature scaling using `StandardScaler` to standardize the feature values for better model performance.\n"
      ],
      "metadata": {
        "id": "r2x23NWCn3Zg"
      }
    },
    {
      "cell_type": "code",
      "source": [
        "# Split the data into training and testing sets\n",
        "X_train, X_test, y_train, y_test = train_test_split(X, y, test_size=0.2, random_state=42)\n",
        "\n",
        "# Standardize the features\n",
        "scaler = StandardScaler()\n",
        "X_train_scaled = scaler.fit_transform(X_train)\n",
        "X_test_scaled = scaler.transform(X_test)\n"
      ],
      "metadata": {
        "id": "mfuiuV1PZrhS"
      },
      "execution_count": 28,
      "outputs": []
    },
    {
      "cell_type": "markdown",
      "source": [
        "## 3. Build, Compile, and Train the Neural Network\n",
        "Here, we build a simple neural network using Keras, compile it, and then train it on the scaled training data.\n"
      ],
      "metadata": {
        "id": "9O6TTmGLaam4"
      }
    },
    {
      "cell_type": "code",
      "source": [
        "from tensorflow.keras.layers import Input\n",
        "\n",
        "# Build and compile a simple neural network model with Input layer\n",
        "model = Sequential()\n",
        "model.add(Input(shape=(X_train_scaled.shape[1],)))  # Equivalent to input_dim=X_train_scaled.shape[1]\n",
        "model.add(Dense(64, activation='relu'))\n",
        "model.add(Dense(32, activation='relu'))\n",
        "model.add(Dense(1))\n",
        "\n",
        "model.compile(optimizer='adam', loss='mean_squared_error')\n",
        "\n",
        "# Train the model\n",
        "history = model.fit(X_train_scaled, y_train, epochs=50, batch_size=32, verbose=1)\n"
      ],
      "metadata": {
        "colab": {
          "base_uri": "https://localhost:8080/"
        },
        "id": "OKHNg6ZCaXxb",
        "outputId": "a06ff727-1ec2-4b86-f93b-853d53c4fc40"
      },
      "execution_count": 58,
      "outputs": [
        {
          "output_type": "stream",
          "name": "stdout",
          "text": [
            "Epoch 1/50\n",
            "\u001b[1m13/13\u001b[0m \u001b[32m━━━━━━━━━━━━━━━━━━━━\u001b[0m\u001b[37m\u001b[0m \u001b[1m2s\u001b[0m 3ms/step - loss: 156.7489\n",
            "Epoch 2/50\n",
            "\u001b[1m13/13\u001b[0m \u001b[32m━━━━━━━━━━━━━━━━━━━━\u001b[0m\u001b[37m\u001b[0m \u001b[1m0s\u001b[0m 8ms/step - loss: 136.2728\n",
            "Epoch 3/50\n",
            "\u001b[1m13/13\u001b[0m \u001b[32m━━━━━━━━━━━━━━━━━━━━\u001b[0m\u001b[37m\u001b[0m \u001b[1m0s\u001b[0m 10ms/step - loss: 141.9829\n",
            "Epoch 4/50\n",
            "\u001b[1m13/13\u001b[0m \u001b[32m━━━━━━━━━━━━━━━━━━━━\u001b[0m\u001b[37m\u001b[0m \u001b[1m0s\u001b[0m 6ms/step - loss: 119.6318\n",
            "Epoch 5/50\n",
            "\u001b[1m13/13\u001b[0m \u001b[32m━━━━━━━━━━━━━━━━━━━━\u001b[0m\u001b[37m\u001b[0m \u001b[1m0s\u001b[0m 5ms/step - loss: 95.6349\n",
            "Epoch 6/50\n",
            "\u001b[1m13/13\u001b[0m \u001b[32m━━━━━━━━━━━━━━━━━━━━\u001b[0m\u001b[37m\u001b[0m \u001b[1m0s\u001b[0m 5ms/step - loss: 67.2454\n",
            "Epoch 7/50\n",
            "\u001b[1m13/13\u001b[0m \u001b[32m━━━━━━━━━━━━━━━━━━━━\u001b[0m\u001b[37m\u001b[0m \u001b[1m0s\u001b[0m 5ms/step - loss: 47.7377\n",
            "Epoch 8/50\n",
            "\u001b[1m13/13\u001b[0m \u001b[32m━━━━━━━━━━━━━━━━━━━━\u001b[0m\u001b[37m\u001b[0m \u001b[1m0s\u001b[0m 7ms/step - loss: 43.9147\n",
            "Epoch 9/50\n",
            "\u001b[1m13/13\u001b[0m \u001b[32m━━━━━━━━━━━━━━━━━━━━\u001b[0m\u001b[37m\u001b[0m \u001b[1m0s\u001b[0m 5ms/step - loss: 38.2623\n",
            "Epoch 10/50\n",
            "\u001b[1m13/13\u001b[0m \u001b[32m━━━━━━━━━━━━━━━━━━━━\u001b[0m\u001b[37m\u001b[0m \u001b[1m0s\u001b[0m 6ms/step - loss: 44.8629\n",
            "Epoch 11/50\n",
            "\u001b[1m13/13\u001b[0m \u001b[32m━━━━━━━━━━━━━━━━━━━━\u001b[0m\u001b[37m\u001b[0m \u001b[1m0s\u001b[0m 5ms/step - loss: 33.0899\n",
            "Epoch 12/50\n",
            "\u001b[1m13/13\u001b[0m \u001b[32m━━━━━━━━━━━━━━━━━━━━\u001b[0m\u001b[37m\u001b[0m \u001b[1m0s\u001b[0m 6ms/step - loss: 35.4933\n",
            "Epoch 13/50\n",
            "\u001b[1m13/13\u001b[0m \u001b[32m━━━━━━━━━━━━━━━━━━━━\u001b[0m\u001b[37m\u001b[0m \u001b[1m0s\u001b[0m 4ms/step - loss: 40.2497 \n",
            "Epoch 14/50\n",
            "\u001b[1m13/13\u001b[0m \u001b[32m━━━━━━━━━━━━━━━━━━━━\u001b[0m\u001b[37m\u001b[0m \u001b[1m0s\u001b[0m 7ms/step - loss: 34.4059\n",
            "Epoch 15/50\n",
            "\u001b[1m13/13\u001b[0m \u001b[32m━━━━━━━━━━━━━━━━━━━━\u001b[0m\u001b[37m\u001b[0m \u001b[1m0s\u001b[0m 6ms/step - loss: 34.4055\n",
            "Epoch 16/50\n",
            "\u001b[1m13/13\u001b[0m \u001b[32m━━━━━━━━━━━━━━━━━━━━\u001b[0m\u001b[37m\u001b[0m \u001b[1m0s\u001b[0m 6ms/step - loss: 43.3024\n",
            "Epoch 17/50\n",
            "\u001b[1m13/13\u001b[0m \u001b[32m━━━━━━━━━━━━━━━━━━━━\u001b[0m\u001b[37m\u001b[0m \u001b[1m0s\u001b[0m 3ms/step - loss: 32.3419 \n",
            "Epoch 18/50\n",
            "\u001b[1m13/13\u001b[0m \u001b[32m━━━━━━━━━━━━━━━━━━━━\u001b[0m\u001b[37m\u001b[0m \u001b[1m0s\u001b[0m 4ms/step - loss: 35.7711  \n",
            "Epoch 19/50\n",
            "\u001b[1m13/13\u001b[0m \u001b[32m━━━━━━━━━━━━━━━━━━━━\u001b[0m\u001b[37m\u001b[0m \u001b[1m0s\u001b[0m 3ms/step - loss: 32.4780  \n",
            "Epoch 20/50\n",
            "\u001b[1m13/13\u001b[0m \u001b[32m━━━━━━━━━━━━━━━━━━━━\u001b[0m\u001b[37m\u001b[0m \u001b[1m0s\u001b[0m 5ms/step - loss: 38.8528\n",
            "Epoch 21/50\n",
            "\u001b[1m13/13\u001b[0m \u001b[32m━━━━━━━━━━━━━━━━━━━━\u001b[0m\u001b[37m\u001b[0m \u001b[1m0s\u001b[0m 3ms/step - loss: 35.2141 \n",
            "Epoch 22/50\n",
            "\u001b[1m13/13\u001b[0m \u001b[32m━━━━━━━━━━━━━━━━━━━━\u001b[0m\u001b[37m\u001b[0m \u001b[1m0s\u001b[0m 5ms/step - loss: 33.5602\n",
            "Epoch 23/50\n",
            "\u001b[1m13/13\u001b[0m \u001b[32m━━━━━━━━━━━━━━━━━━━━\u001b[0m\u001b[37m\u001b[0m \u001b[1m0s\u001b[0m 3ms/step - loss: 31.0254  \n",
            "Epoch 24/50\n",
            "\u001b[1m13/13\u001b[0m \u001b[32m━━━━━━━━━━━━━━━━━━━━\u001b[0m\u001b[37m\u001b[0m \u001b[1m0s\u001b[0m 3ms/step - loss: 32.9864 \n",
            "Epoch 25/50\n",
            "\u001b[1m13/13\u001b[0m \u001b[32m━━━━━━━━━━━━━━━━━━━━\u001b[0m\u001b[37m\u001b[0m \u001b[1m0s\u001b[0m 3ms/step - loss: 30.7024  \n",
            "Epoch 26/50\n",
            "\u001b[1m13/13\u001b[0m \u001b[32m━━━━━━━━━━━━━━━━━━━━\u001b[0m\u001b[37m\u001b[0m \u001b[1m0s\u001b[0m 4ms/step - loss: 33.6844  \n",
            "Epoch 27/50\n",
            "\u001b[1m13/13\u001b[0m \u001b[32m━━━━━━━━━━━━━━━━━━━━\u001b[0m\u001b[37m\u001b[0m \u001b[1m0s\u001b[0m 4ms/step - loss: 30.3461 \n",
            "Epoch 28/50\n",
            "\u001b[1m13/13\u001b[0m \u001b[32m━━━━━━━━━━━━━━━━━━━━\u001b[0m\u001b[37m\u001b[0m \u001b[1m0s\u001b[0m 3ms/step - loss: 33.7035 \n",
            "Epoch 29/50\n",
            "\u001b[1m13/13\u001b[0m \u001b[32m━━━━━━━━━━━━━━━━━━━━\u001b[0m\u001b[37m\u001b[0m \u001b[1m0s\u001b[0m 4ms/step - loss: 30.5779  \n",
            "Epoch 30/50\n",
            "\u001b[1m13/13\u001b[0m \u001b[32m━━━━━━━━━━━━━━━━━━━━\u001b[0m\u001b[37m\u001b[0m \u001b[1m0s\u001b[0m 3ms/step - loss: 32.5481 \n",
            "Epoch 31/50\n",
            "\u001b[1m13/13\u001b[0m \u001b[32m━━━━━━━━━━━━━━━━━━━━\u001b[0m\u001b[37m\u001b[0m \u001b[1m0s\u001b[0m 3ms/step - loss: 27.2673 \n",
            "Epoch 32/50\n",
            "\u001b[1m13/13\u001b[0m \u001b[32m━━━━━━━━━━━━━━━━━━━━\u001b[0m\u001b[37m\u001b[0m \u001b[1m0s\u001b[0m 8ms/step - loss: 24.2793\n",
            "Epoch 33/50\n",
            "\u001b[1m13/13\u001b[0m \u001b[32m━━━━━━━━━━━━━━━━━━━━\u001b[0m\u001b[37m\u001b[0m \u001b[1m0s\u001b[0m 2ms/step - loss: 25.0882  \n",
            "Epoch 34/50\n",
            "\u001b[1m13/13\u001b[0m \u001b[32m━━━━━━━━━━━━━━━━━━━━\u001b[0m\u001b[37m\u001b[0m \u001b[1m0s\u001b[0m 2ms/step - loss: 24.5551 \n",
            "Epoch 35/50\n",
            "\u001b[1m13/13\u001b[0m \u001b[32m━━━━━━━━━━━━━━━━━━━━\u001b[0m\u001b[37m\u001b[0m \u001b[1m0s\u001b[0m 2ms/step - loss: 21.3228\n",
            "Epoch 36/50\n",
            "\u001b[1m13/13\u001b[0m \u001b[32m━━━━━━━━━━━━━━━━━━━━\u001b[0m\u001b[37m\u001b[0m \u001b[1m0s\u001b[0m 2ms/step - loss: 22.8578 \n",
            "Epoch 37/50\n",
            "\u001b[1m13/13\u001b[0m \u001b[32m━━━━━━━━━━━━━━━━━━━━\u001b[0m\u001b[37m\u001b[0m \u001b[1m0s\u001b[0m 2ms/step - loss: 24.2814 \n",
            "Epoch 38/50\n",
            "\u001b[1m13/13\u001b[0m \u001b[32m━━━━━━━━━━━━━━━━━━━━\u001b[0m\u001b[37m\u001b[0m \u001b[1m0s\u001b[0m 3ms/step - loss: 20.6955  \n",
            "Epoch 39/50\n",
            "\u001b[1m13/13\u001b[0m \u001b[32m━━━━━━━━━━━━━━━━━━━━\u001b[0m\u001b[37m\u001b[0m \u001b[1m0s\u001b[0m 2ms/step - loss: 18.2255  \n",
            "Epoch 40/50\n",
            "\u001b[1m13/13\u001b[0m \u001b[32m━━━━━━━━━━━━━━━━━━━━\u001b[0m\u001b[37m\u001b[0m \u001b[1m0s\u001b[0m 2ms/step - loss: 19.2052 \n",
            "Epoch 41/50\n",
            "\u001b[1m13/13\u001b[0m \u001b[32m━━━━━━━━━━━━━━━━━━━━\u001b[0m\u001b[37m\u001b[0m \u001b[1m0s\u001b[0m 2ms/step - loss: 20.0993 \n",
            "Epoch 42/50\n",
            "\u001b[1m13/13\u001b[0m \u001b[32m━━━━━━━━━━━━━━━━━━━━\u001b[0m\u001b[37m\u001b[0m \u001b[1m0s\u001b[0m 2ms/step - loss: 16.2222\n",
            "Epoch 43/50\n",
            "\u001b[1m13/13\u001b[0m \u001b[32m━━━━━━━━━━━━━━━━━━━━\u001b[0m\u001b[37m\u001b[0m \u001b[1m0s\u001b[0m 2ms/step - loss: 16.5441 \n",
            "Epoch 44/50\n",
            "\u001b[1m13/13\u001b[0m \u001b[32m━━━━━━━━━━━━━━━━━━━━\u001b[0m\u001b[37m\u001b[0m \u001b[1m0s\u001b[0m 2ms/step - loss: 16.0344 \n",
            "Epoch 45/50\n",
            "\u001b[1m13/13\u001b[0m \u001b[32m━━━━━━━━━━━━━━━━━━━━\u001b[0m\u001b[37m\u001b[0m \u001b[1m0s\u001b[0m 2ms/step - loss: 14.7866 \n",
            "Epoch 46/50\n",
            "\u001b[1m13/13\u001b[0m \u001b[32m━━━━━━━━━━━━━━━━━━━━\u001b[0m\u001b[37m\u001b[0m \u001b[1m0s\u001b[0m 2ms/step - loss: 14.6183 \n",
            "Epoch 47/50\n",
            "\u001b[1m13/13\u001b[0m \u001b[32m━━━━━━━━━━━━━━━━━━━━\u001b[0m\u001b[37m\u001b[0m \u001b[1m0s\u001b[0m 2ms/step - loss: 12.8799  \n",
            "Epoch 48/50\n",
            "\u001b[1m13/13\u001b[0m \u001b[32m━━━━━━━━━━━━━━━━━━━━\u001b[0m\u001b[37m\u001b[0m \u001b[1m0s\u001b[0m 3ms/step - loss: 13.4602  \n",
            "Epoch 49/50\n",
            "\u001b[1m13/13\u001b[0m \u001b[32m━━━━━━━━━━━━━━━━━━━━\u001b[0m\u001b[37m\u001b[0m \u001b[1m0s\u001b[0m 3ms/step - loss: 12.7560  \n",
            "Epoch 50/50\n",
            "\u001b[1m13/13\u001b[0m \u001b[32m━━━━━━━━━━━━━━━━━━━━\u001b[0m\u001b[37m\u001b[0m \u001b[1m0s\u001b[0m 5ms/step - loss: 11.7907\n"
          ]
        }
      ]
    },
    {
      "cell_type": "markdown",
      "source": [
        "### 4. Model Evaluation and Metrics Calculation\n",
        "\n",
        "---\n",
        "\n",
        "\n",
        "This section evaluates the trained model using evaluation metrics such as MAE, MSE, and RMSE on the test set.\n"
      ],
      "metadata": {
        "id": "g49aUOMan7o1"
      }
    },
    {
      "cell_type": "code",
      "source": [
        "# Make predictions on the test set\n",
        "y_pred = model.predict(X_test_scaled)\n",
        "\n",
        "# Calculate evaluation metrics\n",
        "mae = np.mean(np.abs(y_pred.flatten() - y_test[:len(y_pred)]))  # Flatten y_pred if necessary\n",
        "mse = np.mean((y_pred.flatten() - y_test[:len(y_pred)]) ** 2)\n",
        "rmse = np.sqrt(mse)\n",
        "\n",
        "# Display the metrics\n",
        "print(f\"Mean Absolute Error (MAE): {mae}\")\n",
        "print(f\"Mean Squared Error (MSE): {mse}\")\n",
        "print(f\"Root Mean Squared Error (RMSE): {rmse}\")\n"
      ],
      "metadata": {
        "colab": {
          "base_uri": "https://localhost:8080/"
        },
        "id": "oQ0WgFGMcDbl",
        "outputId": "02a4a5fa-0364-4e89-9a44-306afb0eaf95"
      },
      "execution_count": 59,
      "outputs": [
        {
          "output_type": "stream",
          "name": "stdout",
          "text": [
            "\u001b[1m4/4\u001b[0m \u001b[32m━━━━━━━━━━━━━━━━━━━━\u001b[0m\u001b[37m\u001b[0m \u001b[1m0s\u001b[0m 22ms/step\n",
            "Mean Absolute Error (MAE): 2.545291926346573\n",
            "Mean Squared Error (MSE): 16.44099883220773\n",
            "Root Mean Squared Error (RMSE): 4.054750156570406\n"
          ]
        }
      ]
    },
    {
      "cell_type": "markdown",
      "source": [
        "## 5. Plotting Results (Prediction Errors & Actual vs Predicted)\n",
        "\n",
        "---\n",
        "\n",
        "\n",
        "In this section, we visualize the model's performance by plotting the distribution of errors and comparing predicted vs actual house prices.\n"
      ],
      "metadata": {
        "id": "okd9RNoloIi7"
      }
    },
    {
      "cell_type": "code",
      "source": [
        "# Plot the difference between predicted and actual prices (errors)\n",
        "errors = y_pred.flatten() - y_test[:len(y_pred)]\n",
        "\n",
        "plt.figure(figsize=(10, 6))\n",
        "plt.hist(errors, bins=50, color='lightblue', edgecolor='black')\n",
        "plt.title('Prediction Error Distribution')\n",
        "plt.xlabel('Prediction Error ($)')\n",
        "plt.ylabel('Frequency')\n",
        "plt.grid(True)\n",
        "plt.show()\n",
        "\n",
        "# Simple scatter plot for better understanding\n",
        "plt.figure(figsize=(10, 6))\n",
        "plt.scatter(y_test[:len(y_pred)], y_pred.flatten(), color='blue', alpha=0.5)\n",
        "plt.title('Predicted vs Actual House Prices')\n",
        "plt.xlabel('Actual House Price')\n",
        "plt.ylabel('Predicted House Price')\n",
        "\n",
        "# Add an identity line for better comparison\n",
        "plt.plot([min(y_test), max(y_test)], [min(y_test), max(y_test)], color='red', linestyle='--')\n",
        "\n",
        "plt.grid(True)\n",
        "plt.show()\n"
      ],
      "metadata": {
        "colab": {
          "base_uri": "https://localhost:8080/",
          "height": 1000
        },
        "id": "mEIGcqOtkYx9",
        "outputId": "8c04af2e-f916-403b-d8c7-c225e5d5301a"
      },
      "execution_count": 64,
      "outputs": [
        {
          "output_type": "display_data",
          "data": {
            "text/plain": [
              "<Figure size 1000x600 with 1 Axes>"
            ],
            "image/png": "[encoded data removed]"
          },
          "metadata": {}
        },
        {
          "output_type": "display_data",
          "data": {
            "text/plain": [
              "<Figure size 1000x600 with 1 Axes>"
            ],
            "image/png": "[encoded data removed]"
          },
          "metadata": {}
        }
      ]
    },
    {
      "cell_type": "markdown",
      "source": [
        "## 6. Plot Training Loss Curve\n",
        "\n",
        "---\n",
        "\n",
        "\n",
        "This section visualizes the model’s training loss over the epochs to understand how well the model is learning.\n"
      ],
      "metadata": {
        "id": "k0k9ELqaoOVp"
      }
    },
    {
      "cell_type": "code",
      "source": [
        "# Plot the training loss curve\n",
        "plt.figure(figsize=(10, 6))\n",
        "plt.plot(history.history['loss'], label='Training Loss', color='blue')\n",
        "plt.title('Training Loss over Epochs')\n",
        "plt.xlabel('Epochs')\n",
        "plt.ylabel('Loss')\n",
        "plt.legend()\n",
        "plt.grid(True)\n",
        "plt.show()\n"
      ],
      "metadata": {
        "colab": {
          "base_uri": "https://localhost:8080/",
          "height": 564
        },
        "id": "YPFl23vtlJlL",
        "outputId": "bb6e78c0-7c69-4a25-dc6c-9845b54863b0"
      },
      "execution_count": 65,
      "outputs": [
        {
          "output_type": "display_data",
          "data": {
            "text/plain": [
              "<Figure size 1000x600 with 1 Axes>"
            ],
            "image/png": "[encoded data removed]"
          },
          "metadata": {}
        }
      ]
    },
    {
      "cell_type": "markdown",
      "source": [
        "## 7. Interactive Prediction with Widgets\n",
        "\n",
        "---\n",
        "\n",
        "\n",
        "This section allows users to input values interactively using sliders and get real-time predictions with corresponding plots.\n"
      ],
      "metadata": {
        "id": "hRhFqEjtoXwF"
      }
    },
    {
      "cell_type": "code",
      "source": [
        "import ipywidgets as widgets\n",
        "from ipywidgets import interact\n",
        "import pandas as pd\n",
        "import matplotlib.pyplot as plt\n",
        "\n",
        "# Function to make predictions and plot results\n",
        "def make_prediction_plot(MedInc, HouseAge, AveRooms, AveBedrms, Population, AveOccup, Latitude, Longitude):\n",
        "    # Create a new data point with the input values as a pandas DataFrame to preserve feature names\n",
        "    new_house = pd.DataFrame([[MedInc, HouseAge, AveRooms, AveBedrms, Population, AveOccup, Latitude, Longitude]],\n",
        "                             columns=['MedInc', 'HouseAge', 'AveRooms', 'AveBedrms', 'Population', 'AveOccup', 'Latitude', 'Longitude'])\n",
        "\n",
        "    # Standardize the new data point using the same scaler\n",
        "    new_house_scaled = scaler.transform(new_house)\n",
        "\n",
        "    # Predict the price using the trained model\n",
        "    predicted_price = model.predict(new_house_scaled)\n",
        "\n",
        "    # Print the predicted price\n",
        "    print(f\"Predicted House Price: ${predicted_price[0][0]:,.2f}\")\n",
        "\n",
        "    # Plot the feature vs predicted price relationship\n",
        "    features = ['MedInc', 'HouseAge', 'AveRooms', 'AveBedrms', 'Population', 'AveOccup', 'Latitude', 'Longitude']\n",
        "    feature_values = [MedInc, HouseAge, AveRooms, AveBedrms, Population, AveOccup, Latitude, Longitude]\n",
        "\n",
        "    plt.figure(figsize=(10, 6))\n",
        "    plt.bar(features, feature_values, color='lightblue', edgecolor='black')\n",
        "    plt.title(f'Feature Values for Predicted Price: ${predicted_price[0][0]:,.2f}')\n",
        "    plt.xlabel('Features')\n",
        "    plt.ylabel('Values')\n",
        "    plt.xticks(rotation=45, ha='right')\n",
        "    plt.grid(True)\n",
        "    plt.show()\n",
        "\n",
        "# Define widgets with custom styling\n",
        "style = {'description_width': '150px'}\n",
        "layout = widgets.Layout(width='500px')\n",
        "\n",
        "MedInc = widgets.FloatSlider(value=7.0, min=0.0, max=15.0, step=0.1, description='Median Income:', style=style, layout=layout)\n",
        "HouseAge = widgets.FloatSlider(value=20.0, min=0.0, max=100.0, step=1.0, description='House Age:', style=style, layout=layout)\n",
        "AveRooms = widgets.FloatSlider(value=6.0, min=0.0, max=10.0, step=0.1, description='Average Rooms:', style=style, layout=layout)\n",
        "AveBedrms = widgets.FloatSlider(value=3.0, min=0.0, max=6.0, step=0.1, description='Average Bedrooms:', style=style, layout=layout)\n",
        "Population = widgets.FloatSlider(value=100.0, min=0.0, max=2000.0, step=50.0, description='Population:', style=style, layout=layout)\n",
        "AveOccup = widgets.FloatSlider(value=7.0, min=0.0, max=10.0, step=0.1, description='Average Occupants:', style=style, layout=layout)\n",
        "Latitude = widgets.FloatSlider(value=37.0, min=35.0, max=40.0, step=0.1, description='Latitude:', style=style, layout=layout)\n",
        "Longitude = widgets.FloatSlider(value=-115.0, min=-125.0, max=-115.0, step=0.1, description='Longitude:', style=style, layout=layout)\n",
        "\n",
        "# Organize widgets into a grid layout\n",
        "inputs = widgets.VBox([\n",
        "    widgets.HBox([MedInc, HouseAge]),\n",
        "    widgets.HBox([AveRooms, AveBedrms]),\n",
        "    widgets.HBox([Population, AveOccup]),\n",
        "    widgets.HBox([Latitude, Longitude])\n",
        "])\n",
        "\n",
        "# Display interactive plot with organized widgets\n",
        "interact(make_prediction_plot, MedInc=MedInc, HouseAge=HouseAge, AveRooms=AveRooms, AveBedrms=AveBedrms,\n",
        "         Population=Population, AveOccup=AveOccup, Latitude=Latitude, Longitude=Longitude)\n"
      ],
      "metadata": {
        "colab": {
          "base_uri": "https://localhost:8080/",
          "height": 1000,
          "referenced_widgets": [
            "4e8c50c2138546baa0508f0c3ea254c6",
            "a34597cf227e4d9195f92ace22a3b2b5",
            "6c5a311bc17c41f483ece5be04435ddd",
            "6cb8eaced9d040dba4bb8f6fec67c9ac",
            "f02a636df9954d4bb52cfa173557779d",
            "8ddfecd16a5548b5881a4afa907cdcd6",
            "2b2d1f987640450f80cf74b6964acb46",
            "c95c02a660214462affa58f8f78b4412",
            "ffe67b958f6d49a4bb4b558bd8d1c6b8",
            "745f13cd647c420b85c39ab00e67464d",
            "ead02ce6e64842f692c4cb9776780681",
            "7497866ce8f840328af59d3cf9601768",
            "df8be07b03c84544af64daecf2c17f61",
            "b7447e8863dc449b97df2a85fa469e37",
            "989c3e4773a548269113e9d66ebc6839",
            "e3a76ef834c04448ac3a6b18851d4149",
            "719c063666a44bdfb378bed658b22d05",
            "57f02615710d4f959fdfeecd35bd3ae1",
            "4d22fb9f7a4f46cd8db182993720eac0",
            "a633091c6cda4c5898e7ad10c02d095e",
            "20d0792125204a21950795980eccca5c"
          ]
        },
        "id": "kQgtj3JDdygq",
        "outputId": "997cc5e1-a557-4b48-cb49-e158ab707a20"
      },
      "execution_count": 85,
      "outputs": [
        {
          "output_type": "display_data",
          "data": {
            "text/plain": [
              "interactive(children=(FloatSlider(value=7.0, description='Median Income:', layout=Layout(width='500px'), max=1…"
            ],
            "application/vnd.jupyter.widget-view+json": {
              "version_major": 2,
              "version_minor": 0,
              "model_id": "4e8c50c2138546baa0508f0c3ea254c6"
            }
          },
          "metadata": {}
        },
        {
          "output_type": "execute_result",
          "data": {
            "text/plain": [
              "<function __main__.make_prediction_plot(MedInc, HouseAge, AveRooms, AveBedrms, Population, AveOccup, Latitude, Longitude)>"
            ],
            "text/html": [
              "<div style=\"max-width:800px; border: 1px solid var(--colab-border-color);\"><style>\n",
              "      pre.function-repr-contents {\n",
              "        overflow-x: auto;\n",
              "        padding: 8px 12px;\n",
              "        max-height: 500px;\n",
              "      }\n",
              "\n",
              "      pre.function-repr-contents.function-repr-contents-collapsed {\n",
              "        cursor: pointer;\n",
              "        max-height: 100px;\n",
              "      }\n",
              "    </style>\n",
              "    <pre style=\"white-space: initial; background:\n",
              "         var(--colab-secondary-surface-color); padding: 8px 12px;\n",
              "         border-bottom: 1px solid var(--colab-border-color);\"><b>make_prediction_plot</b><br/>def make_prediction_plot(MedInc, HouseAge, AveRooms, AveBedrms, Population, AveOccup, Latitude, Longitude)</pre><pre class=\"function-repr-contents function-repr-contents-collapsed\" style=\"\"><a class=\"filepath\" style=\"display:none\" href=\"#\">/content/&lt;ipython-input-85-7ca7764f523f&gt;</a>&lt;no docstring&gt;</pre></div>"
            ]
          },
          "metadata": {},
          "execution_count": 85
        }
      ]
    },
    {
      "cell_type": "markdown",
      "source": [
        "## **Task Summary**\n",
        "\n",
        "---\n",
        "\n",
        "\n",
        "\n",
        "In this task, we have built a neural network model to predict house prices based on various features such as median income, house age, average rooms, population, and more. Here's a summary of what we did:\n",
        "\n",
        "1. **Data Loading and Preprocessing**:\n",
        "    - We loaded the dataset and handled missing values by filling them with the column mean.\n",
        "    - We scaled the features using `StandardScaler` to ensure all features have similar magnitudes, which helps the neural network learn effectively.\n",
        "\n",
        "2. **Model Building and Training**:\n",
        "    - We created a simple neural network using Keras with two hidden layers. The model was compiled with the Adam optimizer and trained using mean squared error (MSE) as the loss function.\n",
        "    - We trained the model on the processed data and evaluated its performance using the test set.\n",
        "\n",
        "3. **Model Evaluation**:\n",
        "    - After training, we evaluated the model's performance using metrics like Mean Absolute Error (MAE), Mean Squared Error (MSE), and Root Mean Squared Error (RMSE). These metrics help us understand how well the model is making predictions.\n",
        "\n",
        "4. **Interactive Prediction**:\n",
        "    - We created interactive widgets to allow users to input feature values in real-time and predict house prices. The model updates its predictions dynamically based on user input.\n",
        "\n",
        "5. **Visualization**:\n",
        "    - We visualized the prediction errors, comparing the predicted vs actual prices, and plotted the training loss curve to show how the model improved over time.\n",
        "    - We also created a feature plot to visualize the relationships between the input features and predicted house prices.\n",
        "\n",
        "By the end of this task, we have a neural network model that can predict house prices based on user inputs and provide visual feedback on the results. This interactive tool can be used for further exploration and model improvement.\n"
      ],
      "metadata": {
        "id": "Zcky7pZqtav3"
      }
    },
    {
      "cell_type": "markdown",
      "source": [
        "\n",
        "\n",
        "---\n",
        "\n",
        "\n",
        "# ***End..***"
      ],
      "metadata": {
        "id": "ViwK28gztrBG"
      }
    }
  ]
}